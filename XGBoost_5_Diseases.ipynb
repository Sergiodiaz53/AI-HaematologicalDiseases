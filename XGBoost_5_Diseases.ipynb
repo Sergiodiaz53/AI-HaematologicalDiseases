{
  "cells": [
    {
      "cell_type": "markdown",
      "metadata": {
        "id": "FjfLc_7vt1y7"
      },
      "source": [
        "# Modules & Configuration"
      ]
    },
    {
      "cell_type": "code",
      "execution_count": 1,
      "metadata": {
        "colab": {
          "base_uri": "https://localhost:8080/"
        },
        "id": "6GdRj7U5t1y8",
        "outputId": "0d6bb890-9121-4149-9e3a-221bc7b21620"
      },
      "outputs": [],
      "source": [
        "import pandas as pd\n",
        "import numpy as np\n",
        "import tensorflow as tf\n",
        "import seaborn as sns\n",
        "import matplotlib.pyplot as plt\n",
        "\n",
        "from sklearn.utils import compute_class_weight\n",
        "from xgboost import XGBClassifier\n",
        "from sklearn.metrics import confusion_matrix\n",
        "from sklearn.model_selection import train_test_split\n",
        "from sklearn.model_selection import cross_val_score\n",
        "from sklearn.model_selection import GridSearchCV\n",
        "from sklearn.metrics import classification_report\n",
        "from sklearn.metrics import accuracy_score\n",
        "from statistics import mean\n",
        "from sklearn.model_selection import StratifiedKFold\n",
        "\n",
        "from imblearn.under_sampling import RandomUnderSampler\n",
        "from imblearn.over_sampling import RandomOverSampler\n",
        "\n",
        "from collections import Counter\n",
        "import multiprocessing"
      ]
    },
    {
      "cell_type": "code",
      "execution_count": 2,
      "metadata": {
        "colab": {
          "base_uri": "https://localhost:8080/"
        },
        "id": "mxHsLoUTt1y-",
        "outputId": "b54c59a1-3e80-45fa-912e-79cbbaeb6f61"
      },
      "outputs": [
        {
          "name": "stdout",
          "output_type": "stream",
          "text": [
            "Available CPUs:  16\n"
          ]
        }
      ],
      "source": [
        "# Configuration\n",
        "\n",
        "# Pandas\n",
        "pd.set_option(\"display.max_columns\", None)\n",
        "pd.set_option('display.max_colwidth', None)\n",
        "pd.set_option(\"display.max_rows\", None)\n",
        "pd.set_option(\"display.expand_frame_repr\", False)\n",
        "pd.set_option(\"display.precision\", 2)\n",
        "pd.set_option('display.width', 1000)\n",
        "pd.options.mode.chained_assignment = None\n",
        "\n",
        "n_cpus = multiprocessing.cpu_count()\n",
        "\n",
        "# Seaborn\n",
        "sns.set()\n",
        "color_blue = \"#0089fa\"\n",
        "color_pink = \"#ff0051\"\n",
        "colors = [color_blue, color_pink]\n",
        "customPalette = sns.set_palette(sns.color_palette(colors))\n",
        "customDiverging = sns.diverging_palette(207, 341, as_cmap=True)\n",
        "\n",
        "# Avoid warnings\n",
        "#warnings.filterwarnings('ignore')\n",
        "\n",
        "\n",
        "\n",
        "print(\"Available CPUs: \", n_cpus)"
      ]
    },
    {
      "cell_type": "code",
      "execution_count": 3,
      "metadata": {},
      "outputs": [],
      "source": [
        "class_names_complete = ['Sanos', 'Talasemias', 'Hemoglobinopatías', 'A.Ferropénicas', 'A.Crónico']"
      ]
    },
    {
      "cell_type": "markdown",
      "metadata": {
        "id": "a1qgtxqzt1zA"
      },
      "source": [
        "# Data Loading"
      ]
    },
    {
      "cell_type": "code",
      "execution_count": 4,
      "metadata": {
        "colab": {
          "base_uri": "https://localhost:8080/"
        },
        "id": "fJocIUGQt1zC",
        "outputId": "4b7ab1fc-d453-47db-e599-722a10d37c28"
      },
      "outputs": [
        {
          "name": "stdout",
          "output_type": "stream",
          "text": [
            "File loaded, shape:(3295, 18)\n"
          ]
        },
        {
          "name": "stderr",
          "output_type": "stream",
          "text": [
            "C:\\Users\\sergi\\AppData\\Local\\Temp\\ipykernel_5096\\355433997.py:3: FutureWarning: The error_bad_lines argument has been deprecated and will be removed in a future version. Use on_bad_lines in the future.\n",
            "\n",
            "\n",
            "  CBC = pd.read_csv(CBC_file_dir, error_bad_lines=True)\n"
          ]
        }
      ],
      "source": [
        "#Load CSV fie\n",
        "CBC_file_dir = \"data/ProcessedData-2021-Filtrados.csv\"\n",
        "CBC = pd.read_csv(CBC_file_dir, error_bad_lines=True)\n",
        "CBC[\"Clase\"] = CBC[\"Clase\"].astype(int)\n",
        "print('File loaded, shape:(%s, %s)' %((len(CBC), len(CBC.iloc[0]))))"
      ]
    },
    {
      "cell_type": "markdown",
      "metadata": {
        "id": "2SO5lElZt1zD"
      },
      "source": [
        "# Data Preprocessing"
      ]
    },
    {
      "cell_type": "code",
      "execution_count": 5,
      "metadata": {
        "colab": {
          "base_uri": "https://localhost:8080/"
        },
        "id": "RqfCVbtauVKa",
        "outputId": "29482466-d594-4617-e28c-69837710afef"
      },
      "outputs": [
        {
          "name": "stdout",
          "output_type": "stream",
          "text": [
            "0    863\n",
            "2    798\n",
            "3    455\n",
            "4    504\n",
            "1    675\n",
            "Name: Clase, dtype: int64\n"
          ]
        }
      ],
      "source": [
        "healthy = CBC.loc[CBC['Clase'] == 0]\n",
        "thalassemias = CBC.loc[CBC['Clase'] == 1]\n",
        "hemog = CBC.loc[CBC['Clase'] == 2]\n",
        "anemiasferropenicas = CBC.loc[CBC['Clase'] == 3]\n",
        "anemiastranscronico = CBC.loc[CBC['Clase'] == 4]\n",
        "\n",
        "#Pick only specific thalassemias\n",
        "#thalassemias = thalassemias.loc[(thalassemias['TipoClase'] == 7) | (thalassemias['TipoClase'] == 4) | (thalassemias['TipoClase'] == 3)]\n",
        "\n",
        "CBC = pd.concat([healthy, hemog, anemiasferropenicas, anemiastranscronico, thalassemias])\n",
        "print(CBC['Clase'].value_counts(sort=False))"
      ]
    },
    {
      "cell_type": "code",
      "execution_count": 6,
      "metadata": {
        "id": "0CZ2pNpNuXU0"
      },
      "outputs": [],
      "source": [
        "CBC = CBC.sample(frac = 1)\n",
        "\n",
        "labels = CBC['Clase']\n",
        "CBC = CBC.drop('Clase', axis=1)\n",
        "CBC = CBC.drop('TipoClase', axis=1)\n",
        "CBC.replace(0,CBC.mean(axis=0),inplace=True)"
      ]
    },
    {
      "cell_type": "code",
      "execution_count": 7,
      "metadata": {
        "colab": {
          "base_uri": "https://localhost:8080/"
        },
        "id": "QD_fExGIuXab",
        "outputId": "e3109d70-104d-40bc-f2a1-da7d48633f7a"
      },
      "outputs": [
        {
          "name": "stdout",
          "output_type": "stream",
          "text": [
            "Index(['Edad', 'WBC', 'LYAB', 'MOAB', 'NEAB', 'EO', 'BA', 'HEMA', 'HGB', 'HTO', 'VCM', 'MCH', 'CHCM', 'RDW', 'PLT', 'VPM'], dtype='object')\n"
          ]
        }
      ],
      "source": [
        "print(CBC.columns)"
      ]
    },
    {
      "cell_type": "code",
      "execution_count": 8,
      "metadata": {
        "id": "yFqkoMM8uZ2K"
      },
      "outputs": [],
      "source": [
        "CBC = CBC.to_numpy()"
      ]
    },
    {
      "cell_type": "markdown",
      "metadata": {
        "id": "mtcscrxJt1zJ"
      },
      "source": [
        "# XGBoost"
      ]
    },
    {
      "cell_type": "code",
      "execution_count": 9,
      "metadata": {
        "id": "auxgG1KBt1zJ"
      },
      "outputs": [],
      "source": [
        "params = {\n",
        "        'min_child_weight': [3, 5, 7],\n",
        "        'gamma': [0.8, 1, 1.2],\n",
        "        'subsample': [0.3, 0.5],\n",
        "        'colsample_bytree': [0.3, 0.8, 1],\n",
        "        'max_depth': [2, 4, 6],\n",
        "        'learning_rate': [0.01, 0.1, 0.2],\n",
        "        'n_estimators': [1000, 2000, 3000],\n",
        "        'reg_lambda' : [1],\n",
        "        'reg_alpha' : [0]\n",
        "        }\n",
        "\n",
        "folds = 5\n",
        "\n",
        "skf = StratifiedKFold(n_splits=folds, shuffle = True)"
      ]
    },
    {
      "cell_type": "code",
      "execution_count": 10,
      "metadata": {
        "colab": {
          "base_uri": "https://localhost:8080/"
        },
        "id": "WarSgYEQt1zJ",
        "outputId": "2b40bd83-a005-4cbf-cd54-13f45b46307c"
      },
      "outputs": [
        {
          "name": "stdout",
          "output_type": "stream",
          "text": [
            "Fitting 5 folds for each of 1458 candidates, totalling 7290 fits\n"
          ]
        },
        {
          "data": {
            "text/html": [
              "<style>#sk-container-id-1 {color: black;background-color: white;}#sk-container-id-1 pre{padding: 0;}#sk-container-id-1 div.sk-toggleable {background-color: white;}#sk-container-id-1 label.sk-toggleable__label {cursor: pointer;display: block;width: 100%;margin-bottom: 0;padding: 0.3em;box-sizing: border-box;text-align: center;}#sk-container-id-1 label.sk-toggleable__label-arrow:before {content: \"▸\";float: left;margin-right: 0.25em;color: #696969;}#sk-container-id-1 label.sk-toggleable__label-arrow:hover:before {color: black;}#sk-container-id-1 div.sk-estimator:hover label.sk-toggleable__label-arrow:before {color: black;}#sk-container-id-1 div.sk-toggleable__content {max-height: 0;max-width: 0;overflow: hidden;text-align: left;background-color: #f0f8ff;}#sk-container-id-1 div.sk-toggleable__content pre {margin: 0.2em;color: black;border-radius: 0.25em;background-color: #f0f8ff;}#sk-container-id-1 input.sk-toggleable__control:checked~div.sk-toggleable__content {max-height: 200px;max-width: 100%;overflow: auto;}#sk-container-id-1 input.sk-toggleable__control:checked~label.sk-toggleable__label-arrow:before {content: \"▾\";}#sk-container-id-1 div.sk-estimator input.sk-toggleable__control:checked~label.sk-toggleable__label {background-color: #d4ebff;}#sk-container-id-1 div.sk-label input.sk-toggleable__control:checked~label.sk-toggleable__label {background-color: #d4ebff;}#sk-container-id-1 input.sk-hidden--visually {border: 0;clip: rect(1px 1px 1px 1px);clip: rect(1px, 1px, 1px, 1px);height: 1px;margin: -1px;overflow: hidden;padding: 0;position: absolute;width: 1px;}#sk-container-id-1 div.sk-estimator {font-family: monospace;background-color: #f0f8ff;border: 1px dotted black;border-radius: 0.25em;box-sizing: border-box;margin-bottom: 0.5em;}#sk-container-id-1 div.sk-estimator:hover {background-color: #d4ebff;}#sk-container-id-1 div.sk-parallel-item::after {content: \"\";width: 100%;border-bottom: 1px solid gray;flex-grow: 1;}#sk-container-id-1 div.sk-label:hover label.sk-toggleable__label {background-color: #d4ebff;}#sk-container-id-1 div.sk-serial::before {content: \"\";position: absolute;border-left: 1px solid gray;box-sizing: border-box;top: 0;bottom: 0;left: 50%;z-index: 0;}#sk-container-id-1 div.sk-serial {display: flex;flex-direction: column;align-items: center;background-color: white;padding-right: 0.2em;padding-left: 0.2em;position: relative;}#sk-container-id-1 div.sk-item {position: relative;z-index: 1;}#sk-container-id-1 div.sk-parallel {display: flex;align-items: stretch;justify-content: center;background-color: white;position: relative;}#sk-container-id-1 div.sk-item::before, #sk-container-id-1 div.sk-parallel-item::before {content: \"\";position: absolute;border-left: 1px solid gray;box-sizing: border-box;top: 0;bottom: 0;left: 50%;z-index: -1;}#sk-container-id-1 div.sk-parallel-item {display: flex;flex-direction: column;z-index: 1;position: relative;background-color: white;}#sk-container-id-1 div.sk-parallel-item:first-child::after {align-self: flex-end;width: 50%;}#sk-container-id-1 div.sk-parallel-item:last-child::after {align-self: flex-start;width: 50%;}#sk-container-id-1 div.sk-parallel-item:only-child::after {width: 0;}#sk-container-id-1 div.sk-dashed-wrapped {border: 1px dashed gray;margin: 0 0.4em 0.5em 0.4em;box-sizing: border-box;padding-bottom: 0.4em;background-color: white;}#sk-container-id-1 div.sk-label label {font-family: monospace;font-weight: bold;display: inline-block;line-height: 1.2em;}#sk-container-id-1 div.sk-label-container {text-align: center;}#sk-container-id-1 div.sk-container {/* jupyter's `normalize.less` sets `[hidden] { display: none; }` but bootstrap.min.css set `[hidden] { display: none !important; }` so we also need the `!important` here to be able to override the default hidden behavior on the sphinx rendered scikit-learn.org. See: https://github.com/scikit-learn/scikit-learn/issues/21755 */display: inline-block !important;position: relative;}#sk-container-id-1 div.sk-text-repr-fallback {display: none;}</style><div id=\"sk-container-id-1\" class=\"sk-top-container\"><div class=\"sk-text-repr-fallback\"><pre>GridSearchCV(cv=&lt;generator object _BaseKFold.split at 0x000002457566CEB0&gt;,\n",
              "             estimator=XGBClassifier(base_score=None, booster=None,\n",
              "                                     callbacks=None, colsample_bylevel=None,\n",
              "                                     colsample_bynode=None,\n",
              "                                     colsample_bytree=None,\n",
              "                                     early_stopping_rounds=None,\n",
              "                                     enable_categorical=False, eval_metric=None,\n",
              "                                     gamma=None, gpu_id=None, grow_policy=None,\n",
              "                                     importance_type=None,\n",
              "                                     interaction_con...\n",
              "                                     num_parallel_tree=None,\n",
              "                                     objective=&#x27;multi:softmax&#x27;, predictor=None,\n",
              "                                     random_state=None, reg_alpha=None, ...),\n",
              "             n_jobs=8,\n",
              "             param_grid={&#x27;colsample_bytree&#x27;: [0.3, 0.8, 1],\n",
              "                         &#x27;gamma&#x27;: [0.8, 1, 1.2],\n",
              "                         &#x27;learning_rate&#x27;: [0.01, 0.1, 0.2],\n",
              "                         &#x27;max_depth&#x27;: [2, 4, 6], &#x27;min_child_weight&#x27;: [3, 5, 7],\n",
              "                         &#x27;n_estimators&#x27;: [1000, 2000, 3000], &#x27;reg_alpha&#x27;: [0],\n",
              "                         &#x27;reg_lambda&#x27;: [1], &#x27;subsample&#x27;: [0.3, 0.5]},\n",
              "             scoring=&#x27;accuracy&#x27;, verbose=3)</pre><b>In a Jupyter environment, please rerun this cell to show the HTML representation or trust the notebook. <br />On GitHub, the HTML representation is unable to render, please try loading this page with nbviewer.org.</b></div><div class=\"sk-container\" hidden><div class=\"sk-item sk-dashed-wrapped\"><div class=\"sk-label-container\"><div class=\"sk-label sk-toggleable\"><input class=\"sk-toggleable__control sk-hidden--visually\" id=\"sk-estimator-id-1\" type=\"checkbox\" ><label for=\"sk-estimator-id-1\" class=\"sk-toggleable__label sk-toggleable__label-arrow\">GridSearchCV</label><div class=\"sk-toggleable__content\"><pre>GridSearchCV(cv=&lt;generator object _BaseKFold.split at 0x000002457566CEB0&gt;,\n",
              "             estimator=XGBClassifier(base_score=None, booster=None,\n",
              "                                     callbacks=None, colsample_bylevel=None,\n",
              "                                     colsample_bynode=None,\n",
              "                                     colsample_bytree=None,\n",
              "                                     early_stopping_rounds=None,\n",
              "                                     enable_categorical=False, eval_metric=None,\n",
              "                                     gamma=None, gpu_id=None, grow_policy=None,\n",
              "                                     importance_type=None,\n",
              "                                     interaction_con...\n",
              "                                     num_parallel_tree=None,\n",
              "                                     objective=&#x27;multi:softmax&#x27;, predictor=None,\n",
              "                                     random_state=None, reg_alpha=None, ...),\n",
              "             n_jobs=8,\n",
              "             param_grid={&#x27;colsample_bytree&#x27;: [0.3, 0.8, 1],\n",
              "                         &#x27;gamma&#x27;: [0.8, 1, 1.2],\n",
              "                         &#x27;learning_rate&#x27;: [0.01, 0.1, 0.2],\n",
              "                         &#x27;max_depth&#x27;: [2, 4, 6], &#x27;min_child_weight&#x27;: [3, 5, 7],\n",
              "                         &#x27;n_estimators&#x27;: [1000, 2000, 3000], &#x27;reg_alpha&#x27;: [0],\n",
              "                         &#x27;reg_lambda&#x27;: [1], &#x27;subsample&#x27;: [0.3, 0.5]},\n",
              "             scoring=&#x27;accuracy&#x27;, verbose=3)</pre></div></div></div><div class=\"sk-parallel\"><div class=\"sk-parallel-item\"><div class=\"sk-item\"><div class=\"sk-label-container\"><div class=\"sk-label sk-toggleable\"><input class=\"sk-toggleable__control sk-hidden--visually\" id=\"sk-estimator-id-2\" type=\"checkbox\" ><label for=\"sk-estimator-id-2\" class=\"sk-toggleable__label sk-toggleable__label-arrow\">estimator: XGBClassifier</label><div class=\"sk-toggleable__content\"><pre>XGBClassifier(base_score=None, booster=None, callbacks=None,\n",
              "              colsample_bylevel=None, colsample_bynode=None,\n",
              "              colsample_bytree=None, early_stopping_rounds=None,\n",
              "              enable_categorical=False, eval_metric=None, gamma=None,\n",
              "              gpu_id=None, grow_policy=None, importance_type=None,\n",
              "              interaction_constraints=None, learning_rate=None, max_bin=None,\n",
              "              max_cat_to_onehot=None, max_delta_step=None, max_depth=None,\n",
              "              max_leaves=None, min_child_weight=None, missing=nan,\n",
              "              monotone_constraints=None, n_estimators=100, n_jobs=None,\n",
              "              num_parallel_tree=None, objective=&#x27;multi:softmax&#x27;, predictor=None,\n",
              "              random_state=None, reg_alpha=None, ...)</pre></div></div></div><div class=\"sk-serial\"><div class=\"sk-item\"><div class=\"sk-estimator sk-toggleable\"><input class=\"sk-toggleable__control sk-hidden--visually\" id=\"sk-estimator-id-3\" type=\"checkbox\" ><label for=\"sk-estimator-id-3\" class=\"sk-toggleable__label sk-toggleable__label-arrow\">XGBClassifier</label><div class=\"sk-toggleable__content\"><pre>XGBClassifier(base_score=None, booster=None, callbacks=None,\n",
              "              colsample_bylevel=None, colsample_bynode=None,\n",
              "              colsample_bytree=None, early_stopping_rounds=None,\n",
              "              enable_categorical=False, eval_metric=None, gamma=None,\n",
              "              gpu_id=None, grow_policy=None, importance_type=None,\n",
              "              interaction_constraints=None, learning_rate=None, max_bin=None,\n",
              "              max_cat_to_onehot=None, max_delta_step=None, max_depth=None,\n",
              "              max_leaves=None, min_child_weight=None, missing=nan,\n",
              "              monotone_constraints=None, n_estimators=100, n_jobs=None,\n",
              "              num_parallel_tree=None, objective=&#x27;multi:softmax&#x27;, predictor=None,\n",
              "              random_state=None, reg_alpha=None, ...)</pre></div></div></div></div></div></div></div></div></div></div>"
            ],
            "text/plain": [
              "GridSearchCV(cv=<generator object _BaseKFold.split at 0x000002457566CEB0>,\n",
              "             estimator=XGBClassifier(base_score=None, booster=None,\n",
              "                                     callbacks=None, colsample_bylevel=None,\n",
              "                                     colsample_bynode=None,\n",
              "                                     colsample_bytree=None,\n",
              "                                     early_stopping_rounds=None,\n",
              "                                     enable_categorical=False, eval_metric=None,\n",
              "                                     gamma=None, gpu_id=None, grow_policy=None,\n",
              "                                     importance_type=None,\n",
              "                                     interaction_con...\n",
              "                                     num_parallel_tree=None,\n",
              "                                     objective='multi:softmax', predictor=None,\n",
              "                                     random_state=None, reg_alpha=None, ...),\n",
              "             n_jobs=8,\n",
              "             param_grid={'colsample_bytree': [0.3, 0.8, 1],\n",
              "                         'gamma': [0.8, 1, 1.2],\n",
              "                         'learning_rate': [0.01, 0.1, 0.2],\n",
              "                         'max_depth': [2, 4, 6], 'min_child_weight': [3, 5, 7],\n",
              "                         'n_estimators': [1000, 2000, 3000], 'reg_alpha': [0],\n",
              "                         'reg_lambda': [1], 'subsample': [0.3, 0.5]},\n",
              "             scoring='accuracy', verbose=3)"
            ]
          },
          "execution_count": 10,
          "metadata": {},
          "output_type": "execute_result"
        }
      ],
      "source": [
        "model = XGBClassifier(objective='multi:softmax')\n",
        "grid = GridSearchCV(estimator=model, param_grid=params, scoring='accuracy', n_jobs=8, cv=skf.split(CBC,labels), verbose=3 )\n",
        "grid.fit(CBC, labels)"
      ]
    },
    {
      "cell_type": "code",
      "execution_count": 11,
      "metadata": {
        "id": "E5EFlBCqt1zK"
      },
      "outputs": [
        {
          "name": "stdout",
          "output_type": "stream",
          "text": [
            "\n",
            " Best parameters:\n",
            "{'colsample_bytree': 0.3, 'gamma': 1, 'learning_rate': 0.01, 'max_depth': 4, 'min_child_weight': 3, 'n_estimators': 1000, 'reg_alpha': 0, 'reg_lambda': 1, 'subsample': 0.3}\n",
            "\n",
            " Best score:\n",
            "0.6606980273141123\n"
          ]
        }
      ],
      "source": [
        "print('\\n Best parameters:')\n",
        "print(grid.best_params_)\n",
        "\n",
        "print('\\n Best score:')\n",
        "print(grid.best_score_ )"
      ]
    },
    {
      "cell_type": "code",
      "execution_count": 12,
      "metadata": {
        "id": "L3hqGy97t1zK"
      },
      "outputs": [],
      "source": [
        "X_train, X_test, y_train, y_test = train_test_split(CBC, labels, test_size = 0.3, stratify=labels)"
      ]
    },
    {
      "cell_type": "code",
      "execution_count": 13,
      "metadata": {
        "id": "9wevyY4Bt1zK"
      },
      "outputs": [
        {
          "name": "stdout",
          "output_type": "stream",
          "text": [
            "Accuracy: 67.95%\n"
          ]
        }
      ],
      "source": [
        "model = XGBClassifier(n_jobs=0, objective='binary:logistic',\n",
        "                 colsample_bytree=grid.best_params_[\"colsample_bytree\"],\n",
        "                 gamma=grid.best_params_[\"gamma\"],\n",
        "                 learning_rate=grid.best_params_[\"learning_rate\"],\n",
        "                 max_depth=grid.best_params_[\"max_depth\"],\n",
        "                 min_child_weight=grid.best_params_[\"min_child_weight\"],\n",
        "                 n_estimators=grid.best_params_[\"n_estimators\"],\n",
        "                 subsample=grid.best_params_[\"subsample\"],\n",
        "                 reg_lambda=grid.best_params_[\"reg_lambda\"],\n",
        "                 reg_alpha=grid.best_params_[\"reg_alpha\"]\n",
        "                 )\n",
        "model.fit(X_train, y_train)\n",
        "y_pred = model.predict(X_test)\n",
        "predictions = [round(value) for value in y_pred]\n",
        "accuracy = accuracy_score(y_test, predictions)\n",
        "print(\"Accuracy: %.2f%%\" % (accuracy * 100.0))"
      ]
    },
    {
      "cell_type": "code",
      "execution_count": 14,
      "metadata": {
        "id": "oLe_-3bct1zL"
      },
      "outputs": [
        {
          "name": "stdout",
          "output_type": "stream",
          "text": [
            "Model Accuracy:  0.679474216380182\n",
            "              precision    recall  f1-score   support\n",
            "\n",
            "           0       0.72      0.85      0.78       259\n",
            "           1       0.74      0.81      0.77       203\n",
            "           2       0.53      0.34      0.42       239\n",
            "           3       0.68      0.60      0.64       137\n",
            "           4       0.67      0.81      0.73       151\n",
            "\n",
            "    accuracy                           0.68       989\n",
            "   macro avg       0.67      0.68      0.67       989\n",
            "weighted avg       0.66      0.68      0.66       989\n",
            "\n"
          ]
        }
      ],
      "source": [
        "con_mat = tf.math.confusion_matrix(labels=y_test, predictions=y_pred).numpy()\n",
        "con_mat_norm = np.around(con_mat.astype('float') / con_mat.sum(axis=1)[:, np.newaxis], decimals=2)\n",
        "con_mat_df = pd.DataFrame(con_mat_norm, index = class_names_complete, columns = class_names_complete)\n",
        "\n",
        "print('Model Accuracy: ', accuracy_score(y_test, y_pred))\n",
        "report = classification_report(y_test, y_pred)\n",
        "print(report)"
      ]
    }
  ],
  "metadata": {
    "colab": {
      "name": "XGBoost.ipynb",
      "provenance": []
    },
    "kernelspec": {
      "display_name": "Python 3.10.5 ('venv': venv)",
      "language": "python",
      "name": "python3"
    },
    "language_info": {
      "codemirror_mode": {
        "name": "ipython",
        "version": 3
      },
      "file_extension": ".py",
      "mimetype": "text/x-python",
      "name": "python",
      "nbconvert_exporter": "python",
      "pygments_lexer": "ipython3",
      "version": "3.10.6"
    },
    "orig_nbformat": 4,
    "vscode": {
      "interpreter": {
        "hash": "0c9a0d5a097689cf76186b0f0dc7251b1730e3883122bdb9d2213553630a76a9"
      }
    }
  },
  "nbformat": 4,
  "nbformat_minor": 0
}
