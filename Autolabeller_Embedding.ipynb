{
  "nbformat": 4,
  "nbformat_minor": 0,
  "metadata": {
    "colab": {
      "name": "Autolabeller - Embedding",
      "provenance": [],
      "collapsed_sections": [],
      "authorship_tag": "ABX9TyMYiUGPKguUwCDFi2187UwM",
      "include_colab_link": true
    },
    "kernelspec": {
      "name": "python3",
      "display_name": "Python 3"
    },
    "language_info": {
      "name": "python"
    }
  },
  "cells": [
    {
      "cell_type": "markdown",
      "metadata": {
        "id": "view-in-github",
        "colab_type": "text"
      },
      "source": [
        "<a href=\"https://colab.research.google.com/github/Sergiodiaz53/AI-HaematologicalDiseases/blob/main/Autolabeller_Embedding.ipynb\" target=\"_parent\"><img src=\"https://colab.research.google.com/assets/colab-badge.svg\" alt=\"Open In Colab\"/></a>"
      ]
    },
    {
      "cell_type": "code",
      "metadata": {
        "id": "7cxQq_g1xRkT"
      },
      "source": [
        "#Packages\n",
        "%tensorflow_version 2.x\n",
        "import tensorflow as tf\n",
        "from tensorflow import keras\n",
        "import nltk\n",
        "import random\n",
        "import matplotlib.pyplot as plt\n",
        "\n",
        "import numpy as np\n",
        "import pandas as pd\n",
        "import seaborn as sns\n",
        "\n",
        "#Tools\n",
        "from google.colab import drive\n",
        "from tensorflow.keras import Sequential\n",
        "from tensorflow.keras.layers import Embedding, LSTM, Dense, Dropout\n",
        "from tensorflow.keras.preprocessing.text import Tokenizer\n",
        "from tensorflow.keras.preprocessing.sequence import pad_sequences\n",
        "from sklearn.model_selection import StratifiedShuffleSplit\n",
        "from tensorflow.keras.utils import to_categorical"
      ],
      "execution_count": null,
      "outputs": []
    },
    {
      "cell_type": "code",
      "metadata": {
        "colab": {
          "base_uri": "https://localhost:8080/"
        },
        "id": "OI5Et_NNxyBy",
        "outputId": "469dd14c-db3c-4898-fcd4-dc38977c4fa8"
      },
      "source": [
        "from tensorflow.python.client import device_lib\n",
        "tf.test.gpu_device_name()\n",
        "device_lib.list_local_devices()"
      ],
      "execution_count": null,
      "outputs": [
        {
          "output_type": "execute_result",
          "data": {
            "text/plain": [
              "[name: \"/device:CPU:0\"\n",
              " device_type: \"CPU\"\n",
              " memory_limit: 268435456\n",
              " locality {\n",
              " }\n",
              " incarnation: 876559196189433030]"
            ]
          },
          "metadata": {
            "tags": []
          },
          "execution_count": 2
        }
      ]
    },
    {
      "cell_type": "code",
      "metadata": {
        "colab": {
          "base_uri": "https://localhost:8080/"
        },
        "id": "K67ReFWBxzDr",
        "outputId": "4358141d-e04b-48c3-f693-19c4decb49b9"
      },
      "source": [
        "#Avoid warnings\n",
        "import warnings\n",
        "warnings.filterwarnings('ignore')\n",
        "\n",
        "#Spanish stopwords\n",
        "nltk.download('stopwords')\n",
        "from nltk.corpus import stopwords\n",
        "STOPWORDS = set(stopwords.words('spanish'))\n",
        "\n",
        "#mount Drive\n",
        "drive.mount('/content/drive', force_remount=True)\n",
        "root_dir = \"/content/drive/My Drive/\""
      ],
      "execution_count": null,
      "outputs": [
        {
          "output_type": "stream",
          "text": [
            "[nltk_data] Downloading package stopwords to /root/nltk_data...\n",
            "[nltk_data]   Unzipping corpora/stopwords.zip.\n",
            "Mounted at /content/drive\n"
          ],
          "name": "stdout"
        }
      ]
    },
    {
      "cell_type": "code",
      "metadata": {
        "colab": {
          "base_uri": "https://localhost:8080/"
        },
        "id": "sXoCVo4qx0OX",
        "outputId": "75d41c47-8938-4aa5-a7f2-36935c9539b0"
      },
      "source": [
        "CBC_file_dir = root_dir + \"Data/ProcessedData-2021-Filtrados-Observaciones.csv\"\n",
        "CBC = pd.read_csv(CBC_file_dir, error_bad_lines=True)\n",
        "print('File loaded, shape:(%s, %s)' %((len(CBC), len(CBC.iloc[0]))))\n",
        "print(CBC.sample(n=1))"
      ],
      "execution_count": null,
      "outputs": [
        {
          "output_type": "stream",
          "text": [
            "File loaded, shape:(4061, 19)\n",
            "        Edad  ...                                      Observaciones\n",
            "85  0.784314  ...  FORMULA REVISADA. SIN ALTERACONES MORFOLOGICAS...\n",
            "\n",
            "[1 rows x 19 columns]\n"
          ],
          "name": "stdout"
        }
      ]
    },
    {
      "cell_type": "code",
      "metadata": {
        "colab": {
          "base_uri": "https://localhost:8080/"
        },
        "id": "StGmgXTWx-Ii",
        "outputId": "516c903b-2143-4b9c-9714-6cca1b2f746f"
      },
      "source": [
        "# Coge las filas de CBC donde CLASE sea igual a 0, 1, 2 o 3\n",
        "\n",
        "healthy = CBC.loc[CBC['Clase'] == 0]\n",
        "thalassemias = CBC.loc[CBC['Clase'] == 1]\n",
        "hemog = CBC.loc[CBC['Clase'] == 2]\n",
        "anemias_ferro = CBC.loc[CBC['Clase'] == 3]\n",
        "anemias_trans = CBC.loc[CBC['Clase'] == 4]\n",
        "\n",
        "num_max_samples = min(len(healthy),len(thalassemias),len(hemog),len(anemias_ferro), len(anemias_trans))\n",
        "print('Sample limit: ', num_max_samples)\n",
        "\n",
        "healthy = healthy.sample(n=num_max_samples)\n",
        "thalassemias = thalassemias.sample(n=num_max_samples)\n",
        "hemog = hemog.sample(n=num_max_samples)\n",
        "anemias_ferro = anemias_ferro.sample(n=num_max_samples)\n",
        "anemias_trans = anemias_trans.sample(n=num_max_samples)\n",
        "\n",
        "CBC = pd.concat([healthy, thalassemias, hemog, anemias_ferro, anemias_trans],ignore_index=True)\n",
        "\n",
        "# Dropear observaciones vacias y clases vacias\n",
        "\n",
        "CBC = CBC.dropna(axis=0, how='any', subset=['Observaciones'])\n",
        "CBC = CBC.dropna(axis=0, how='any', subset=['Clase'])\n",
        "\n",
        "print(CBC.Clase.value_counts())\n",
        "print(CBC.sample(1))\n"
      ],
      "execution_count": null,
      "outputs": [
        {
          "output_type": "stream",
          "text": [
            "Sample limit:  455\n",
            "4.0    455\n",
            "3.0    455\n",
            "2.0    455\n",
            "1.0    455\n",
            "0.0    455\n",
            "Name: Clase, dtype: int64\n",
            "         Edad  ...                                      Observaciones\n",
            "1947  0.77451  ...  FORMULA REVISADA, CON DISCRETO REFUERZO DE LA ...\n",
            "\n",
            "[1 rows x 19 columns]\n"
          ],
          "name": "stdout"
        }
      ]
    },
    {
      "cell_type": "code",
      "metadata": {
        "colab": {
          "base_uri": "https://localhost:8080/"
        },
        "id": "BYygvdWpyR-i",
        "outputId": "9e2ea797-fd09-4237-dd44-0514c988fbfc"
      },
      "source": [
        "# Quedarse con las observaciones y las etiquetas\n",
        "\n",
        "CBC = CBC[['Observaciones', 'Clase']]\n",
        "\n",
        "print(len(CBC))\n",
        "print(CBC.sample(1))"
      ],
      "execution_count": null,
      "outputs": [
        {
          "output_type": "stream",
          "text": [
            "2275\n",
            "                                          Observaciones  Clase\n",
            "1470  FORMULA REVISADA CON DISCRETAS ALTERACIONES DE...    3.0\n"
          ],
          "name": "stdout"
        }
      ]
    },
    {
      "cell_type": "code",
      "metadata": {
        "id": "Y3xkft1N7NC0"
      },
      "source": [
        "def normalizeDataset(dataset):\n",
        "  \"\"\"Given a dataset with a description field, normalize the text \n",
        "  keeping only words in lowercase without symbols, numbers or stopwords\n",
        "\n",
        "  Example: 'this is an 1234 important text =)' ---> [[THIS],[IMPORTANT],[TEXT]]\n",
        "  \"\"\"\n",
        "  normalizedCBC = []\n",
        "\n",
        "  for idx, sample in enumerate(CBC['Observaciones']):\n",
        "    auxCBC = sample.split()\n",
        "    auxRow = []\n",
        "    for idx_2, token in enumerate(auxCBC):\n",
        "      normalized_token = ''.join(e for e in token if e.isalpha()).lower()\n",
        "      if not normalized_token in STOPWORDS:\n",
        "        if (len(normalized_token)>1):\n",
        "          auxRow.append(normalized_token)\n",
        "    normalizedCBC.append(auxRow)\n",
        "\n",
        "  dataset['Observaciones'] = normalizedCBC\n",
        "  return dataset\n",
        "\n",
        "CBC = normalizeDataset(CBC)"
      ],
      "execution_count": null,
      "outputs": []
    },
    {
      "cell_type": "code",
      "metadata": {
        "colab": {
          "base_uri": "https://localhost:8080/"
        },
        "id": "EhcHU4qbIgQq",
        "outputId": "c67e6748-80f1-4a6c-8a03-ead5b7e6cf7d"
      },
      "source": [
        "def generateVocabulary(dataset):\n",
        "    vocab = []\n",
        "    for observation in dataset['Observaciones']:\n",
        "        for word in observation:\n",
        "            vocab.append(word)\n",
        "    return vocab\n",
        "\n",
        "vocabulary = generateVocabulary(CBC)\n",
        "vocabulary = set(vocabulary)\n",
        "print(len(vocabulary))\n",
        "\n",
        "vocab_size = int(round(len(vocabulary)/2))\n",
        "oov_token = 'oov'\n",
        "CBC_labels = CBC['Clase']\n",
        "CBC_samples = CBC['Observaciones']\n",
        "\n",
        "tokenizer = Tokenizer(num_words = vocab_size, oov_token=oov_token)\n",
        "tokenizer.fit_on_texts(CBC_samples)\n",
        "word_index = tokenizer.word_index\n",
        "print(word_index)"
      ],
      "execution_count": null,
      "outputs": [
        {
          "output_type": "stream",
          "text": [
            "1234\n",
            "{'oov': 1, 'alfa': 2, 'revisada': 3, 'talasemia': 4, 'plaquetas': 5, 'formula': 6, 'alteraciones': 7, 'comprobadas': 8, 'alelo': 9, 'sr': 10, 'morfologicas': 11, 'significativas': 12, 'gen': 13, 'normal': 14, 'anemia': 15, 'impresiona': 16, 'serie': 17, 'presenta': 18, 'roja': 19, 'cadena': 20, 'descarta': 21, 'morfologia': 22, 'determina': 23, 'microcitica': 24, 'hemoglobinopatia': 25, 'asociada': 26, 'mutacion': 27, 'normocromica': 28, 'normocitica': 29, 'mutado': 30, 'hipocroma': 31, 'heterocigota': 32, 'exon': 33, 'codon': 34, 'rouleaux': 35, 'cambio': 36, 'aminoacido': 37, 'posicion': 38, 'anisocitosis': 39, 'poblacion': 40, 'tendencia': 41, 'codificada': 42, 'cronico': 43, 'trastorno': 44, 'cluster': 45, 'hematies': 46, 'heterocigoto': 47, 'ferropenica': 48, 'helix': 49, 'glutamico': 50, 'ßa': 51, 'valina': 52, 'beta': 53, 'zona': 54, 'gaggtg': 55, 'gluval': 56, 'hbbcat': 57, 'estructural': 58, 'refuerzo': 59, 'neutrofilos': 60, 'observan': 61, 'sintesis': 62, 'utr': 63, 'granulacion': 64, 'promotora': 65, 'secuenciacion': 66, 'directa': 67, 'mutaciones': 68, 'puntuales': 69, 'exones': 70, 'intrones': 71, 'extremos': 72, 'inflamatorio': 73, 'mlpa': 74, 'genes': 75, 'grandes': 76, 'revelado': 77, 'descartan': 78, 'deleciones': 79, 'mismo': 80, 'segmento': 81, 'ausencia': 82, 'discreto': 83, 'dianocitos': 84, 'discreta': 85, 'fórmula': 86, 'delta': 87, 'descartar': 88, 'morfología': 89, 'frecuentes': 90, 'anisopoiquilocitosis': 91, 'hbbcga': 92, 'ferropenia': 93, 'lisina': 94, 'delecion': 95, 'normocítica': 96, 'normocrómica': 97, 'intron': 98, 'compatible': 99, 'estudio': 100, 'homocigoto': 101, 'nucleotido': 102, 'kb': 103, 'bien': 104, 'homocigota': 105, 'glulys': 106, 'gh': 107, 'deltabeta': 108, 'gagaag': 109, 'interesa': 110, 'disminucion': 111, 'conocer': 112, 'alguna': 113, 'extiende': 114, 'linfocitos': 115, 'cuadro': 116, 'delección': 117, 'cagtag': 118, 'cdct': 119, 'glnstop': 120, 'rasgo': 121, 'talasemico': 122, 'teta': 123, 'policromatofilia': 124, 'reactiva': 125, 'maduracion': 126, 'microcitosis': 127, 'ácido': 128, 'macrocitica': 129, 'aspártico': 130, 'palquetas': 131, 'grande': 132, 'ga': 133, 'ivsntga': 134, 'ct': 135, 'zeta': 136, 'algun': 137, 'proceso': 138, 'glicina': 139, 'mayor': 140, 'pares': 141, 'bases': 142, 'extremo': 143, 'donadora': 144, 'granulada': 145, 'trombocitosis': 146, 'infeccioso': 147, 'macrocitosis': 148, 'doble': 149, 'alfaalfa': 150, 'perdida': 151, 'hbbcgc': 152, 'osea': 153, 'diferenciados': 154, 'gaacaa': 155, 'dlos': 156, 'angeles': 157, 'punjab': 158, 'glugln': 159, 'pseudogen': 160, 'alpha': 161, 'tamaño': 162, 'intergénico': 163, 'determia': 164, 'spanish': 165, 'conservada': 166, 'antecedentes': 167, 'familiares': 168, 'completar': 169, 'datos': 170, 'delecionado': 171, 'personales': 172, 'asi': 173, 'mas': 174, 'conocida': 175, 'cd': 176, 'deleción': 177, 'eliptocitos': 178, 'probable': 179, 'alfahph': 180, 'fg': 181, 'glicocola': 182, 'amplia': 183, 'intrón': 184, 'síntesis': 185, 'alanina': 186, 'izquierda': 187, 'celularidad': 188, 'variante': 189, 'serina': 190, 'desviacion': 191, 'clinicos': 192, 'hemoglobina': 193, 'hbacca': 194, 'medula': 195, 'afinidad': 196, 'glyasp': 197, 'buena': 198, 'normociticanormocromica': 199, 'región': 200, 'celulas': 201, 'signos': 202, 'inestable': 203, 'hiperdensos': 204, 'drepanocitos': 205, 'conclusion': 206, 'aislados': 207, 'tratada': 208, 'marco': 209, 'lectura': 210, 'seudongen': 211, 'seudogenes': 212, 'medular': 213, 'normales': 214, 'ocmprobadas': 215, 'uma': 216, 'arginina': 217, 'ferropénica': 218, 'hueso': 219, 'consistencia': 220, 'extrae': 221, 'grumo': 222, 'comrpobadas': 223, 'leucocitosis': 224, 'marcada': 225, 'hipocromia': 226, 'observa': 227, 'seaalfa': 228, 'prolina': 229, 'megacariocitos': 230, 'estadios': 231, 'mieloide': 232, 'plasmaticas': 233, 'numero': 234, 'oxigeno': 235, 'reduccion': 236, 'arnm': 237, 'alaasp': 238, 'ggcgac': 239, 'jbaltimore': 240, 'crónico': 241, 'buen': 242, 'lagunas': 243, 'grasas': 244, 'hepatopatia': 245, 'ivsntct': 246, 'dicha': 247, 'ßb': 248, 'asociado': 249, 'glutamina': 250, 'gccgac': 251, 'jparis': 252, 'secundaria': 253, 'cronicos': 254, 'visto': 255, 'impronta': 256, 'alta': 257, 'periferica': 258, 'dianocito': 259, 'leucina': 260, 'ef': 261, 'vacuolizacion': 262, 'trastornos': 263, 'conservadas': 264, 'deshidrogenasa': 265, 'aumento': 266, 'agregados': 267, 'hemoglobinopatias': 268, 'codifica': 269, 'comporta': 270, 'hipersegmentacion': 271, 'hierro': 272, 'base': 273, 'ca': 274, 'punteado': 275, 'basofilo': 276, 'hbbcac': 277, 'además': 278, 'microciticahipocroma': 279, 'aumentada': 280, 'entrecruzamiendo': 281, 'homologo': 282, 'formandose': 283, 'fusion': 284, 'deltaß': 285, 'normoblastica': 286, 'hb': 287, 'fosfato': 288, 'mutación': 289, 'crea': 290, 'nueva': 291, 'alternativa': 292, 'glutámico': 293, 'tg': 294, 'hybrid': 295, 'through': 296, 'from': 297, 'ge': 298, 'biopsia': 299, 'glucosa': 300, 'eosinofilos': 301, 'transfundida': 302, 'pérdida': 303, 'nt': 304, 'ivsnt': 305, 'dos': 306, 'formación': 307, 'ce': 308, 'asparagina': 309, 'histidina': 310, 'leucoeritroblastico': 311, 'ccttct': 312, 'groene': 313, 'hart': 314, 'proser': 315, 'hbacct': 316, 'tratamiento': 317, 'alteracones': 318, 'cifra': 319, 'conlleva': 320, 'depranocitos': 321, 'microcítica': 322, 'hbbcct': 323, 'alelos': 324, 'hemoglobinas': 325, 'tirosina': 326, 'hbacgt': 327, 'aagcag': 328, 'lysgln': 329, 'conservados': 330, 'estimada': 331, 'deficit': 332, 'oxígeno': 333, 'realizado': 334, 'ag': 335, 'heterocigtoa': 336, 'cuerpos': 337, 'aumentados': 338, 'eliptocitosis': 339, 'sangrado': 340, 'normocelular': 341, 'deja': 342, 'aspirado': 343, 'sondas': 344, 'aspecto': 345, 'maduro': 346, 'esferocitos': 347, 'muestra': 348, 'leve': 349, 'trombopenia': 350, 'crenados': 351, 'lugar': 352, 'epsilon': 353, 'ggt': 354, 'ambos': 355, 'ctgccg': 356, 'hbactc': 357, 'megaloblastica': 358, 'puerta': 359, 'sol': 360, 'serarg': 361, 'jvalencia': 362, 'marcado': 363, 'morfológicas': 364, 'actividad': 365, 'adamts': 366, 'valor': 367, 'déficit': 368, 'granulares': 369, 'mismas': 370, 'caracteristicas': 371, 'esquistocitos': 372, 'negativo': 373, 'microagregados': 374, 'tres': 375, 'segmentacion': 376, 'vf': 377, 'jak': 378, 'trpstop': 379, 'talsemia': 380, 'códones': 381, 'gamma': 382, 'seudogen': 383, 'seudoegen': 384, 'ac': 385, 'metionina': 386, 'ivsii': 387, 'resultado': 388, 'implica': 389, 'aa': 390, 'ßef': 391, 'leporebaltimoreheterocigota': 392, 'hisgln': 393, 'hbaccg': 394, 'cronica': 395, 'hemolisis': 396, 'tx': 397, 'representados': 398, 'posible': 399, 'analizador': 400, 'aunque': 401, 'constituida': 402, 'aprecia': 403, 'adenina': 404, 'tggtag': 405, 'cdc': 406, 'estabilidad': 407, 'alafa': 408, 'alternativo': 409, 'splicing': 410, 'aminoácido': 411, 'funcional': 412, 'determinación': 413, 'mandado': 414, 'control': 415, 'habian': 416, 'llamado': 417, 'previamente': 418, 'adjuntamos': 419, 'normas': 420, 'realización': 421, 'medalfa': 422, 'microcitia': 423, 'corresponde': 424, 'hélice': 425, 'hleupro': 426, 'relacion': 427, 'eliptocito': 428, 'gactac': 429, 'setif': 430, 'agcaga': 431, 'aacaaa': 432, 'cantidad': 433, 'caccaa': 434, 'asnlys': 435, 'cgtggt': 436, 'jcamagüey': 437, 'hc': 438, 'arggly': 439, 'discretos': 440, 'hemoglobinizacion': 441, 'deficiente': 442, 'infiltracion': 443, 'alateraciones': 444, 'población': 445, 'monoclonal': 446, 'diagnostica': 447, 'estomatocito': 448, 'normocitic': 449, 'reactivo': 450, 'discretamente': 451, 'hematie': 452, 'duplicación': 453, 'gammas': 454, 'mismos': 455, 'si': 456, 'sangre': 457, 'series': 458, 'granuladas': 459, 'electroforesis': 460, 'paciente': 461, 'significativass': 462, 'hs': 463, 'inserción': 464, 'guanina': 465, 'hbbc': 466, 'filalfa': 467, 'mutados': 468, 'isoleucina': 469, 'obstante': 470, 'farmacologico': 471, 'asptyr': 472, 'fenilalanina': 473, 'posición': 474, 'congenita': 475, 'cambios': 476, 'cactac': 477, 'delsegmento': 478, 'fukuyama': 479, 'histyr': 480, 'gcctcc': 481, 'alaser': 482, 'frecuenbtes': 483, 'excentrocito': 484, 'determinaciones': 485, 'ße': 486, 'hbacac': 487, 'hbbcca': 488, 'gaaaaa': 489, 'oarab': 490, 'hbacga': 491, 'aagaat': 492, 'lysasn': 493, 'estomatocitos': 494, 'recomienda': 495, 'gmsi': 496, 'microciticahipocromica': 497, 'plaqueta': 498, 'real': 499, 'componente': 500, 'vs': 501, 'vit': 502, 'granualcion': 503, 'escasa': 504, 'crenado': 505, 'nromocitica': 506, 'observado': 507, 'significativo': 508, 'alteracion': 509, 'adn': 510, 'mediante': 511, 'pcr': 512, 'arms': 513, 'seguida': 514, 'capilar': 515, 'negativa': 516, 'canoa': 517, 'ay': 518, 'fecha': 519, 'sp': 520, 'origina': 521, 'responsable': 522, 'nromocromica': 523, 'blastos': 524, 'patologicos': 525, 'sustitución': 526, 'polimorfismo': 527, 'enfermedad': 528, 'nucleótido': 529, 'pudiendo': 530, 'afectar': 531, 'hbac': 532, 'auasencia': 533, 'hbbcag': 534, 'originando': 535, 'disminución': 536, 'glygly': 537, 'hbbcta': 538, 'gag': 539, 'ßo': 540, 'eritroblastos': 541, 'tggtga': 542, 'treonina': 543, 'alfas': 544, 'podria': 545, 'med': 546, 'infiltrada': 547, 'dara': 548, 'informacion': 549, 'intermedia': 550, 'da': 551, 'sonda': 552, 'excepto': 553, 'globina': 554, 'poiquilocitos': 555, 'microciticos': 556, 'hbbctg': 557, 'realizar': 558, 'gtcctc': 559, 'elcambio': 560, 'fanninlubbock': 561, 'ii': 562, 'ßgvalleu': 563, 'ßgh': 564, 'hbbcgcga': 565, 'howelljolly': 566, 'gszuhu': 567, 'latamente': 568, 'produce': 569, 'disminuida': 570, 'quong': 571, 'sze': 572, 'dacriocitos': 573, 'ggccgc': 574, 'glyarg': 575, 'hbdcgc': 576, 'gtgatg': 577, 'valmet': 578, 'leporeboston': 579, 'glutaminao': 580, 'malmö': 581, 'normicitica': 582, 'hbactg': 583, 'ggtagt': 584, 'city': 585, 'of': 586, 'hope': 587, 'glyser': 588, 'degmacitos': 589, 'gtggcg': 590, 'sydney': 591, 'valala': 592, 'hbbctc': 593, 'oindonesia': 594, 'beziers': 595, 'microcitioca': 596, 'slpc': 597, 'trastrorno': 598, 'tumoral': 599, 'extrañas': 600, 'pboalcion': 601, 'discretas': 602, 'gamapatia': 603, 'inflamatorioinfeccioso': 604, 'ven': 605, 'inflamatoria': 606, 'tincion': 607, 'depositos': 608, 'destruccion': 609, 'proteinograma': 610, 'tendnecia': 611, 'pobalcion': 612, 'roulesux': 613, 'inflamatorioasociado': 614, 'plauqetas': 615, 'neutrfofilos': 616, 'imrpesiona': 617, 'clínicos': 618, 'cronicoinflamatorio': 619, 'hiperplasiada': 620, 'esferocito': 621, 'glucosafosfato': 622, 'hematopoyesis': 623, 'habito': 624, 'normoctica': 625, 'cuya': 626, 'elementos': 627, 'representacion': 628, 'hematopoyeticas': 629, 'estructurales': 630, 'nhc': 631, 'tipo': 632, 'leucocitos': 633, 'totales': 634, 'conclusión': 635, 'encontrado': 636, 'monocitosis': 637, 'comprobada': 638, 'morfologica': 639, 'mastocitos': 640, 'mastocitosis': 641, 'omprobadas': 642, 'dismorfica': 643, 'africano': 644, 'polimorfismos': 645, 'relacionado': 646, 'reguladora': 647, 'determinacion': 648, 'timina': 649, 'microcitita': 650, 'mínimo': 651, 'prácticamente': 652, 'eliminándose': 653, 'heterocigotoo': 654, 'hetrocigota': 655, 'iniciación': 656, 'ggtgaa': 657, 'activa': 658, 'gaggga': 659, 'pasa': 660, 'principio': 661, 'haber': 662, 'hplc': 663, 'intercambio': 664, 'iónico': 665, 'fase': 666, 'reversa': 667, 'paraece': 668, 'tener': 669, 'poliglobulia': 670, 'cdatrpstop': 671, 'probablemente': 672, 'tunisbizerte': 673, 'residuo': 674, 'codones': 675, 'sido': 676, 'descrita': 677, 'duplicacion': 678, 'acantocitos': 679, 'dado': 680, 'puede': 681, 'aalfa': 682, 'ßnt': 683, 'aghbbcag': 684, 'megaovalocitos': 685, 'gt': 686, 'expresion': 687, 'thaialfa': 688, 'ttttgt': 689, 'cisteina': 690, 'arta': 691, 'phecysr': 692, 'trata': 693, 'reducida': 694, 'policrmatofilia': 695, 'pudo': 696, 'cuantificación': 697, 'rstf': 698, 'mandaron': 699, 'suero': 700, 'eritrocitos': 701, 'gly': 702, 'ßg': 703, 'howell': 704, 'confrecuentes': 705, 'alesha': 706, 'cursa': 707, 'hemolitica': 708, 'lepore': 709, 'gluvalhbbcat': 710, 'anesplenia': 711, 'ayialousa': 712, 'hbdcgt': 713, 'descenso': 714, 'niveles': 715, 'ctgcgg': 716, 'plasencia': 717, 'hleuarg': 718, 'agccgc': 719, 'gccgtc': 720, 'puttelange': 721, 'alaval': 722, 'ababinga': 723, 'hbdcga': 724, 'howweljolly': 725, 'ghglulys': 726, 'lamentin': 727, 'activación': 728, 'resulta': 729, 'leporebaltimore': 730, 'knossos': 731, 'hbbcgt': 732, 'drepanocito': 733, 'aacatc': 734, 'treile': 735, 'sibn': 736, 'afinifdad': 737, 'agrinio': 738, 'bleupro': 739, 'interhélica': 740, 'pbolacion': 741, 'frotis': 742, 'smd': 743, 'frecuente': 744, 'vez': 745, 'agudo': 746, 'hereditaria': 747, 'aglutinacion': 748, 'crioaglutinina': 749, 'causa': 750, 'hipocromica': 751, 'lmmc': 752, 'plzquetas': 753, 'micrometastasis': 754, 'infecciosoinflamatorio': 755, 'numerosos': 756, 'microagregado': 757, 'ferropencia': 758, 'rev': 759, 'isada': 760, 'hemogolbinopatia': 761, 'poiquilocito': 762, 'mad': 763, 'cromatina': 764, 'sombras': 765, 'gumprecht': 766, 'llc': 767, 'hipcroma': 768, 'sideroblastos': 769, 'comportamiento': 770, 'displasia': 771, 'claros': 772, 'nromal': 773, 'mcirocitica': 774, 'discrteta': 775, 'inflamatorios': 776, 'monocitos': 777, 'normocitca': 778, 'normcoromica': 779, 'crónicoinflamatorio': 780, 'comprobaddas': 781, 'inflamacion': 782, 'roulelaux': 783, 'dianositos': 784, 'crónicos': 785, 'netrofilos': 786, 'dee': 787, 'folico': 788, 'patologia': 789, 'rouelaux': 790, 'seguir': 791, 'evolucion': 792, 'neutrofkos': 793, 'superior': 794, 'autoanalizador': 795, 'asociados': 796, 'granulación': 797, 'disminuidas': 798, 'hiatus': 799, 'madurativo': 800, 'diseritropoyesis': 801, 'formuila': 802, 'normocrónica': 803, 'transtorno': 804, 'normocromia': 805, 'normocromical': 806, 'enzimática': 807, 'mostró': 808, 'valores': 809, 'así': 810, 'disdcreta': 811, 'diferenciada': 812, 'sacabocados': 813, 'nodulo': 814, 'linfoide': 815, 'aumentadas': 816, 'constituyen': 817, 'mieloma': 818, 'multiple': 819, 'fetal': 820, 'relación': 821, 'estres': 822, 'glicosa': 823, 'linfocitosis': 824, 'fumar': 825, 'inhibidor': 826, 'plaqietas': 827, 'comprobadad': 828, 'talasemai': 829, 'nomocitica': 830, 'défit': 831, 'rouleauix': 832, 'varios': 833, 'correspondientes': 834, 'paquetarios': 835, 'moderada': 836, 'talasemias': 837, 'plaquetarios': 838, 'gpdh': 839, 'electroforiesis': 840, 'alterada': 841, 'interesaria': 842, 'normiciticanormocromica': 843, 'srnormocitica': 844, 'observaciones': 845, 'segundo': 846, 'martinez': 847, 'belinchon': 848, 'linfocito': 849, 'granular': 850, 'mal': 851, 'gtggtc': 852, 'presentara': 853, 'modo': 854, 'creemos': 855, 'hemofglobinopatia': 856, 'escaso': 857, 'constituido': 858, 'acumulos': 859, 'escasos': 860, 'punto': 861, 'vista': 862, 'citologico': 863, 'informado': 864, 'día': 865, 'aletaciones': 866, 'comrobadas': 867, 'srnormocita': 868, 'maria': 869, 'francisca': 870, 'campoverde': 871, 'vargas': 872, 'microangiopatia': 873, 'revisdada': 874, 'hemoglobiniopatia': 875, 'raso': 876, 'talasemicoesplenectomizado': 877, 'realiza': 878, 'ala': 879, 'encontrados': 880, 'reducción': 881, 'heterocigto': 882, 'taggtglyggagly': 883, 'hbacdelg': 884, 'comprende': 885, 'minimo': 886, 'incluye': 887, 'respetando': 888, 'resto': 889, 'aag': 890, 'ademas': 891, 'formacion': 892, 'glu': 893, 'lys': 894, 'atggtg': 895, 'metvalhbacag': 896, 'alfaalfaalfaalfat': 897, 'sra': 898, 'ivsntgc': 899, 'actatt': 900, 'comportándose': 901, 'fenotípicamente': 902, 'thrile': 903, 'hbdcct': 904, 'inclusion': 905, 'postivos': 906, 'consecuencia': 907, 'cromosoma': 908, 'aproximadamente': 909, 'triplicación': 910, 'alfaalfaalfatalfaalfa': 911, 'ehipocroma': 912, 'secuenciación': 913, 'nucleótidos': 914, 'gtg': 915, 'codifican': 916, 'poder': 917, 'precisarse': 918, 'naturaleza': 919, 'añadido': 920, 'localizacion': 921, 'union': 922, 'alfabeta': 923, 'determian': 924, 'hiperinestabilidad': 925, 'permite': 926, 'formar': 927, 'dimeros': 928, 'cadenas': 929, 'hiperinestable': 930, 'habia': 931, 'anteriormente': 932, 'severa': 933, 'menos': 934, 'comprede': 935, 'incluyendo': 936, 'region': 937, 'asocia': 938, 'cuadriplicacion': 939, 'analiticas': 940, 'previas': 941, 'sedescarta': 942, 'icrocitica': 943, 'presencia': 944, 'citosina': 945, 'hbbcdelc': 946, 'ase': 947, 'aagtag': 948, 'implican': 949, 'hematológicas': 950, 'caccat': 951, 'ggcggt': 952, 'cdat': 953, 'lysstop': 954, 'nisopoiquilocitosis': 955, 'abundantes': 956, 'delecionados': 957, 'toxicidad': 958, 'rasgos': 959, 'talasemicos': 960, 'aleloso': 961, 'alfahphalfa': 962, 'hipocoma': 963, 'tan': 964, 'solo': 965, 'cdga': 966, 'ivsnttg': 967, 'perdiéndose': 968, 'lcr': 969, 'egdß': 970, 'epsilongammadeltabeta': 971, 'ganacia': 972, 'material': 973, 'genetico': 974, 'triplicacion': 975, 'justifiquen': 976, 'fenotipica': 977, 'asnlyshbbcca': 978, 'triplete': 979, 'eliminación': 980, 'higashitochigi': 981, 'or': 982, 'hbbcdelggt': 983, 'caccag': 984, 'hbbccg': 985, 'anterioridad': 986, 'literatura': 987, 'podrían': 988, 'ponerle': 989, 'nombre': 990, 'publicarlo': 991, 'parecer': 992, 'murcia': 993, 'hemoglobinopatía': 994, 'deltaa': 995, 'altera': 996, 'parámetros': 997, 'hematológicos': 998, 'patrón': 999, 'jolly': 1000, 'aacaag': 1001, 'delfzicht': 1002, 'esatdo': 1003, 'indian': 1004, 'ggammaagamma': 1005, 'deltabetatal': 1006, 'köln': 1007, 'ggtgat': 1008, 'glulyshbacga': 1009, 'douled': 1010, 'rabah': 1011, 'pseudogenes': 1012, 'corresponder': 1013, 'span': 1014, 'nts': 1015, 'nggdel': 1016, 'spanalfa': 1017, 'aconseja': 1018, 'familiar': 1019, 'áciso': 1020, 'adana': 1021, 'saratoga': 1022, 'spring': 1023, 'hipoc': 1024, 'roma': 1025, 'anisopoiqulocitosis': 1026, 'gctgat': 1027, 'jchicago': 1028, 'anisopoiquilocitrosis': 1029, 'atgata': 1030, 'hellux': 1031, 'metile': 1032, 'ttcgtc': 1033, 'pheval': 1034, 'baja': 1035, 'stanleyvilleii': 1036, 'dagmacito': 1037, 'leuarg': 1038, 'ctcttc': 1039, 'hélices': 1040, 'sevilla': 1041, 'leuphe': 1042, 'gtgctg': 1043, 'johnstown': 1044, 'valleu': 1045, 'microicitca': 1046, 'sc': 1047, 'atgagg': 1048, 'metarg': 1049, 'metotrexato': 1050, 'combinado': 1051, 'microcicita': 1052, 'herditaria': 1053, 'repetir': 1054, 'resuelto': 1055, 'tratamientos': 1056, 'confirmar': 1057, 'exceptuando': 1058, 'denominado': 1059, 'patología': 1060, 'oral': 1061, 'investigar': 1062, 'medico': 1063, 'atencion': 1064, 'primaria': 1065, 'medicina': 1066, 'interna': 1067, 'clusters': 1068, 'esteroides': 1069, 'solamente': 1070, 'discrto': 1071, 'plquetas': 1072, 'obaservan': 1073, 'eliptoc': 1074, 'itos': 1075, 'edta': 1076, 'confirmada': 1077, 'smpc': 1078, 'activados': 1079, 'viral': 1080, 'contendencia': 1081, 'conb': 1082, 'estimado': 1083, 'hallazgos': 1084, 'eosinofilia': 1085, 'signfiicativas': 1086, 'anisopoiquilocitlsis': 1087, 'adescartar': 1088, 'pedir': 1089, 'revidada': 1090, 'significativassr': 1091, 'anemiaferropenica': 1092, 'valorables': 1093, 'coagulacion': 1094, 'ferropenioca': 1095, 'comprbadas': 1096, 'infecicosi': 1097, 'neoplasia': 1098, 'digestiva': 1099, 'alteracionesmorfologicas': 1100, 'morflogicas': 1101, 'gamelos': 1102, 'trofozoitos': 1103, 'plasmodium': 1104, 'vivax': 1105, 'ferropenico': 1106, 'eritroblastico': 1107, 'microesferocitos': 1108, 'mecanica': 1109, 'disfuncion': 1110, 'valvular': 1111, 'contada': 1112, 'coulter': 1113, 'ferropenca': 1114, 'trtamiento': 1115, 'estudiar': 1116, 'poiblacion': 1117, 'neutroifilos': 1118, 'pesar': 1119, 'clinico': 1120, 'evidencia': 1121, 'microc': 1122, 'itica': 1123, 'csf': 1124, 'cromico': 1125, 'muchas': 1126, 'dismorficas': 1127, 'sindrome': 1128, 'mielodisplasico': 1129, 'normoicromia': 1130, 'revisxada': 1131, 'anisocitosisi': 1132, 'prolinfocitos': 1133, 'morfoloigicas': 1134, 'disminuidos': 1135, 'agregado': 1136, 'moleculares': 1137, 'medio': 1138, 'corregida': 1139, 'persiste': 1140, 'comunicais': 1141, 'ferrropenica': 1142, 'ansicocitosis': 1143, 'granualda': 1144, 'trnsfundida': 1145, 'excentrocitos': 1146, 'fagocitos': 1147, 'postesplenectomia': 1148, 'singificativas': 1149, 'morfoilogicas': 1150, 'sranisocitosis': 1151, 'microangiopatico': 1152, 'activo': 1153, 'reruerzo': 1154, 'hiperesplenismo': 1155, 'trastrono': 1156, 'gammapatia': 1157, 'etilismo': 1158, 'losa': 1159, 'pequeños': 1160, 'maduros': 1161, 'nucleolos': 1162, 'inmunofenotipico': 1163, 'slp': 1164, 'analiticos': 1165, 'habria': 1166, 'hemties': 1167, 'esterioideo': 1168, 'hjematies': 1169, 'ifneccioso': 1170, 'morfologa': 1171, 'moroflogia': 1172, 'normocroma': 1173, 'pico': 1174, 'deltrastorno': 1175, 'comptible': 1176, 'anemis': 1177, 'prodeso': 1178, 'tendecia': 1179, 'zonas': 1180, 'plaquetaria': 1181, 'desestima': 1182, 'realizacion': 1183, 'celula': 1184, 'linfoplasmatica': 1185, 'comprobasd': 1186, 'trasgorno': 1187, 'endencia': 1188, 'piruvato': 1189, 'kinasa': 1190, 'podido': 1191, 'ema': 1192, 'eosinmaleimida': 1193, 'citometria': 1194, 'flujo': 1195, 'membranopatia': 1196, 'chcm': 1197, 'disminuido': 1198, 'hace': 1199, 'trate': 1200, 'esferocitosis': 1201, 'estress': 1202, 'celualridad': 1203, 'disgranulopoyesis': 1204, 'contado': 1205, 'sideroblastois': 1206, 'hiperplasia': 1207, 'rojaen': 1208, 'mielodisplasia': 1209, 'transtornos': 1210, 'plauquetas': 1211, 'practicamente': 1212, 'ausentes': 1213, 'mielocitos': 1214, 'metamielocitos': 1215, 'cayados': 1216, 'gigantes': 1217, 'desviada': 1218, 'marcados': 1219, 'parasitos': 1220, 'marcroc': 1221, 'itosis': 1222, 'normocromicatendencia': 1223, 'condensada': 1224, 'dacriocito': 1225, 'linfoproliferativo': 1226, 'hematis': 1227, 'enolico': 1228, 'touleaux': 1229, 'rouleux': 1230, 'comprotamiento': 1231, 'rfuerzo': 1232, 'parece': 1233, 'roa': 1234, 'roleaux': 1235}\n"
          ],
          "name": "stdout"
        }
      ]
    },
    {
      "cell_type": "code",
      "metadata": {
        "id": "7Pky1-5LI2GX"
      },
      "source": [
        "CBC_samples = tokenizer.texts_to_sequences(CBC_samples)"
      ],
      "execution_count": null,
      "outputs": []
    },
    {
      "cell_type": "code",
      "metadata": {
        "colab": {
          "base_uri": "https://localhost:8080/"
        },
        "id": "6ACcfKKyI8KW",
        "outputId": "b703bc77-feea-4859-b372-ac7ee9d7aa2b"
      },
      "source": [
        "print(CBC_samples[random.randint(0,len(CBC_samples)-1)])\n",
        "print('File train loaded, shape:(%s, %s)' \n",
        "      %((len(CBC_samples), len(CBC_samples[0]))))"
      ],
      "execution_count": null,
      "outputs": [
        {
          "output_type": "stream",
          "text": [
            "[6, 3, 7, 11, 12, 17, 19, 39, 40, 24, 31, 5, 22, 14, 16, 15, 48]\n",
            "File train loaded, shape:(2275, 12)\n"
          ],
          "name": "stdout"
        }
      ]
    },
    {
      "cell_type": "code",
      "metadata": {
        "colab": {
          "base_uri": "https://localhost:8080/",
          "height": 265
        },
        "id": "tr-5ASdqKQRp",
        "outputId": "a9590eb9-8a34-4a56-a972-8247e252ff06"
      },
      "source": [
        "def calculateMaxLen(dataset):\n",
        "    max_len = 0\n",
        "    lens = []\n",
        "    for sample in dataset:\n",
        "        l = len(sample)\n",
        "        lens.append(l)\n",
        "        if(l > max_len):\n",
        "            max_len = l\n",
        "    return max_len, lens\n",
        "\n",
        "max_len, lens = calculateMaxLen(CBC_samples)\n",
        "sns.distplot(lens)\n",
        "max_length = 80 #This value is base on the length distribution, to avoid much filling later when padding"
      ],
      "execution_count": null,
      "outputs": [
        {
          "output_type": "display_data",
          "data": {
            "image/png": "[encoded data removed]",
            "text/plain": [
              "<Figure size 432x288 with 1 Axes>"
            ]
          },
          "metadata": {
            "tags": [],
            "needs_background": "light"
          }
        }
      ]
    },
    {
      "cell_type": "code",
      "metadata": {
        "id": "wSKfwiH2Kc_0"
      },
      "source": [
        "CBC_samples = pad_sequences(CBC_samples, maxlen=max_length, padding='post', truncating='post')"
      ],
      "execution_count": null,
      "outputs": []
    },
    {
      "cell_type": "code",
      "metadata": {
        "id": "34VI_IzoW8nG"
      },
      "source": [
        "train_labels_true = CBC_labels\n",
        "CBC_labels = to_categorical(CBC_labels, num_classes=5)"
      ],
      "execution_count": null,
      "outputs": []
    },
    {
      "cell_type": "code",
      "metadata": {
        "id": "lbWQ5UL6XAPD"
      },
      "source": [
        "embedding_dim = 256\n",
        "epochs=300\n",
        "learning_rate = 0.00001"
      ],
      "execution_count": null,
      "outputs": []
    },
    {
      "cell_type": "code",
      "metadata": {
        "id": "UXWL7uh3XBxr"
      },
      "source": [
        "def createModel(vocab_size, embedding_dim):\n",
        "  model = Sequential()\n",
        "  model.add(Embedding(input_dim=vocab_size,\n",
        "                      output_dim=embedding_dim))\n",
        "  model.add(Dropout(0.25))\n",
        "  model.add(LSTM(embedding_dim,\n",
        "                 recurrent_initializer='glorot_uniform'))\n",
        "  model.add(Dense(5, activation='softmax'))\n",
        "  return model"
      ],
      "execution_count": null,
      "outputs": []
    },
    {
      "cell_type": "code",
      "metadata": {
        "id": "eLAZOm_jXDMd"
      },
      "source": [
        "def createOptimizer(model):\n",
        "\n",
        "  optimizer = tf.keras.optimizers.Adam(lr=learning_rate, decay=1e-6)\n",
        "\n",
        "  model.compile(loss=\"categorical_crossentropy\",\n",
        "                optimizer=optimizer,\n",
        "                metrics = ['accuracy'])\n",
        "  return model"
      ],
      "execution_count": null,
      "outputs": []
    },
    {
      "cell_type": "code",
      "metadata": {
        "colab": {
          "base_uri": "https://localhost:8080/"
        },
        "id": "Rl65a9TIXFBE",
        "outputId": "e74e1c46-682c-4965-ff2d-6bc4ea042a33"
      },
      "source": [
        "model = createModel(vocab_size, embedding_dim)\n",
        "model = createOptimizer(model)\n",
        "model.summary()\n",
        "\n",
        "print('File train loaded, shape:(%s, %s)' \n",
        "      %((len(CBC_samples), len(CBC_samples[0]))))\n",
        "print('File train loaded, shape:(%s, %s)' \n",
        "      %((len(CBC_labels), len(CBC_labels[0]))))"
      ],
      "execution_count": null,
      "outputs": [
        {
          "output_type": "stream",
          "text": [
            "Model: \"sequential\"\n",
            "_________________________________________________________________\n",
            "Layer (type)                 Output Shape              Param #   \n",
            "=================================================================\n",
            "embedding (Embedding)        (None, None, 256)         157952    \n",
            "_________________________________________________________________\n",
            "dropout (Dropout)            (None, None, 256)         0         \n",
            "_________________________________________________________________\n",
            "lstm (LSTM)                  (None, 256)               525312    \n",
            "_________________________________________________________________\n",
            "dense (Dense)                (None, 5)                 1285      \n",
            "=================================================================\n",
            "Total params: 684,549\n",
            "Trainable params: 684,549\n",
            "Non-trainable params: 0\n",
            "_________________________________________________________________\n",
            "File train loaded, shape:(2275, 80)\n",
            "File train loaded, shape:(2275, 5)\n"
          ],
          "name": "stdout"
        }
      ]
    },
    {
      "cell_type": "code",
      "metadata": {
        "id": "FI1z5sp4XGZT"
      },
      "source": [
        "#keras.utils.plot_model(model, root_dir +'multi_input_and_output_model.png', show_shapes=True)"
      ],
      "execution_count": null,
      "outputs": []
    },
    {
      "cell_type": "code",
      "metadata": {
        "colab": {
          "base_uri": "https://localhost:8080/"
        },
        "id": "td1Y4Z5kXIj9",
        "outputId": "e0c87515-4e9e-4e42-b4c7-6e99d27dca57"
      },
      "source": [
        "sss = StratifiedShuffleSplit(n_splits=1, test_size=0.2)\n",
        "for train_index, test_index in sss.split(CBC_samples, CBC_labels):\n",
        "    x_train, x_test = CBC_samples[train_index], CBC_samples[test_index]\n",
        "    y_train, y_test = CBC_labels[train_index], CBC_labels[test_index]\n",
        "    train_labels_true = train_labels_true[test_index]\n",
        "\n",
        "history = model.fit(x_train, y_train, validation_data=(x_test, y_test), epochs=epochs, shuffle=True, verbose=2)"
      ],
      "execution_count": null,
      "outputs": [
        {
          "output_type": "stream",
          "text": [
            "Epoch 1/300\n",
            "57/57 - 27s - loss: 1.6100 - accuracy: 0.1962 - val_loss: 1.6096 - val_accuracy: 0.2000\n",
            "Epoch 2/300\n",
            "57/57 - 24s - loss: 1.6097 - accuracy: 0.1951 - val_loss: 1.6096 - val_accuracy: 0.2000\n",
            "Epoch 3/300\n",
            "57/57 - 24s - loss: 1.6097 - accuracy: 0.1967 - val_loss: 1.6095 - val_accuracy: 0.2000\n",
            "Epoch 4/300\n",
            "57/57 - 24s - loss: 1.6096 - accuracy: 0.1962 - val_loss: 1.6095 - val_accuracy: 0.2000\n",
            "Epoch 5/300\n",
            "57/57 - 24s - loss: 1.6096 - accuracy: 0.1912 - val_loss: 1.6095 - val_accuracy: 0.2000\n",
            "Epoch 6/300\n",
            "57/57 - 25s - loss: 1.6096 - accuracy: 0.2005 - val_loss: 1.6094 - val_accuracy: 0.2000\n",
            "Epoch 7/300\n",
            "57/57 - 24s - loss: 1.6096 - accuracy: 0.2132 - val_loss: 1.6094 - val_accuracy: 0.2000\n",
            "Epoch 8/300\n",
            "57/57 - 26s - loss: 1.6094 - accuracy: 0.2110 - val_loss: 1.6094 - val_accuracy: 0.2066\n",
            "Epoch 9/300\n",
            "57/57 - 26s - loss: 1.6095 - accuracy: 0.1934 - val_loss: 1.6094 - val_accuracy: 0.2000\n",
            "Epoch 10/300\n",
            "57/57 - 26s - loss: 1.6096 - accuracy: 0.1830 - val_loss: 1.6094 - val_accuracy: 0.2066\n",
            "Epoch 11/300\n",
            "57/57 - 25s - loss: 1.6096 - accuracy: 0.1973 - val_loss: 1.6094 - val_accuracy: 0.1912\n",
            "Epoch 12/300\n",
            "57/57 - 25s - loss: 1.6095 - accuracy: 0.1830 - val_loss: 1.6094 - val_accuracy: 0.2022\n",
            "Epoch 13/300\n",
            "57/57 - 24s - loss: 1.6093 - accuracy: 0.2110 - val_loss: 1.6093 - val_accuracy: 0.2066\n",
            "Epoch 14/300\n",
            "57/57 - 25s - loss: 1.6093 - accuracy: 0.2049 - val_loss: 1.6093 - val_accuracy: 0.2066\n",
            "Epoch 15/300\n",
            "57/57 - 24s - loss: 1.6092 - accuracy: 0.2077 - val_loss: 1.6093 - val_accuracy: 0.2066\n",
            "Epoch 16/300\n",
            "57/57 - 24s - loss: 1.6094 - accuracy: 0.2027 - val_loss: 1.6093 - val_accuracy: 0.2110\n",
            "Epoch 17/300\n",
            "57/57 - 25s - loss: 1.6094 - accuracy: 0.2093 - val_loss: 1.6092 - val_accuracy: 0.2044\n",
            "Epoch 18/300\n",
            "57/57 - 25s - loss: 1.6094 - accuracy: 0.1907 - val_loss: 1.6092 - val_accuracy: 0.2066\n",
            "Epoch 19/300\n",
            "57/57 - 25s - loss: 1.6092 - accuracy: 0.2082 - val_loss: 1.6091 - val_accuracy: 0.2198\n",
            "Epoch 20/300\n",
            "57/57 - 25s - loss: 1.6091 - accuracy: 0.2011 - val_loss: 1.6090 - val_accuracy: 0.2110\n",
            "Epoch 21/300\n",
            "57/57 - 24s - loss: 1.6090 - accuracy: 0.2104 - val_loss: 1.6089 - val_accuracy: 0.2132\n",
            "Epoch 22/300\n",
            "57/57 - 25s - loss: 1.6089 - accuracy: 0.2192 - val_loss: 1.6085 - val_accuracy: 0.2220\n",
            "Epoch 23/300\n",
            "57/57 - 25s - loss: 1.6082 - accuracy: 0.2082 - val_loss: 1.6074 - val_accuracy: 0.2264\n",
            "Epoch 24/300\n",
            "57/57 - 25s - loss: 1.6010 - accuracy: 0.2203 - val_loss: 1.5669 - val_accuracy: 0.3692\n",
            "Epoch 25/300\n",
            "57/57 - 25s - loss: 1.3406 - accuracy: 0.3984 - val_loss: 1.2353 - val_accuracy: 0.3978\n",
            "Epoch 26/300\n",
            "57/57 - 25s - loss: 1.1880 - accuracy: 0.3912 - val_loss: 1.1863 - val_accuracy: 0.4044\n",
            "Epoch 27/300\n",
            "57/57 - 25s - loss: 1.0929 - accuracy: 0.4077 - val_loss: 1.0525 - val_accuracy: 0.4527\n",
            "Epoch 28/300\n",
            "57/57 - 25s - loss: 1.0244 - accuracy: 0.4341 - val_loss: 1.0300 - val_accuracy: 0.5253\n",
            "Epoch 29/300\n",
            "57/57 - 24s - loss: 0.9913 - accuracy: 0.4582 - val_loss: 0.9937 - val_accuracy: 0.4242\n",
            "Epoch 30/300\n",
            "57/57 - 25s - loss: 0.9587 - accuracy: 0.4742 - val_loss: 0.9594 - val_accuracy: 0.4813\n",
            "Epoch 31/300\n",
            "57/57 - 25s - loss: 0.9110 - accuracy: 0.5714 - val_loss: 0.9035 - val_accuracy: 0.5824\n",
            "Epoch 32/300\n",
            "57/57 - 25s - loss: 0.8266 - accuracy: 0.6055 - val_loss: 0.7980 - val_accuracy: 0.6110\n",
            "Epoch 33/300\n",
            "57/57 - 25s - loss: 0.7500 - accuracy: 0.6159 - val_loss: 0.7484 - val_accuracy: 0.6132\n",
            "Epoch 34/300\n",
            "57/57 - 25s - loss: 0.7189 - accuracy: 0.6258 - val_loss: 0.7214 - val_accuracy: 0.6615\n",
            "Epoch 35/300\n",
            "57/57 - 24s - loss: 0.7048 - accuracy: 0.6599 - val_loss: 0.7106 - val_accuracy: 0.6418\n",
            "Epoch 36/300\n",
            "57/57 - 25s - loss: 0.6837 - accuracy: 0.6626 - val_loss: 0.6876 - val_accuracy: 0.7319\n",
            "Epoch 37/300\n",
            "57/57 - 25s - loss: 0.6593 - accuracy: 0.7099 - val_loss: 0.6624 - val_accuracy: 0.7209\n",
            "Epoch 38/300\n",
            "57/57 - 25s - loss: 0.6410 - accuracy: 0.7082 - val_loss: 0.6400 - val_accuracy: 0.7604\n",
            "Epoch 39/300\n",
            "57/57 - 25s - loss: 0.6125 - accuracy: 0.7429 - val_loss: 0.6189 - val_accuracy: 0.7516\n",
            "Epoch 40/300\n",
            "57/57 - 25s - loss: 0.5824 - accuracy: 0.7610 - val_loss: 0.5847 - val_accuracy: 0.7604\n",
            "Epoch 41/300\n",
            "57/57 - 25s - loss: 0.5527 - accuracy: 0.7687 - val_loss: 0.5672 - val_accuracy: 0.7560\n",
            "Epoch 42/300\n",
            "57/57 - 25s - loss: 0.5292 - accuracy: 0.7703 - val_loss: 0.5410 - val_accuracy: 0.7648\n",
            "Epoch 43/300\n",
            "57/57 - 24s - loss: 0.5105 - accuracy: 0.7698 - val_loss: 0.5305 - val_accuracy: 0.7560\n",
            "Epoch 44/300\n",
            "57/57 - 25s - loss: 0.4856 - accuracy: 0.7720 - val_loss: 0.5106 - val_accuracy: 0.7648\n",
            "Epoch 45/300\n",
            "57/57 - 24s - loss: 0.4748 - accuracy: 0.7753 - val_loss: 0.4994 - val_accuracy: 0.7626\n",
            "Epoch 46/300\n",
            "57/57 - 24s - loss: 0.4745 - accuracy: 0.7742 - val_loss: 0.4997 - val_accuracy: 0.7758\n",
            "Epoch 47/300\n",
            "57/57 - 25s - loss: 0.4601 - accuracy: 0.7742 - val_loss: 0.4963 - val_accuracy: 0.7648\n",
            "Epoch 48/300\n",
            "57/57 - 24s - loss: 0.4504 - accuracy: 0.7742 - val_loss: 0.4963 - val_accuracy: 0.7604\n",
            "Epoch 49/300\n",
            "57/57 - 25s - loss: 0.4480 - accuracy: 0.7780 - val_loss: 0.4967 - val_accuracy: 0.7714\n",
            "Epoch 50/300\n",
            "57/57 - 25s - loss: 0.4477 - accuracy: 0.7731 - val_loss: 0.4990 - val_accuracy: 0.7670\n",
            "Epoch 51/300\n",
            "57/57 - 25s - loss: 0.4590 - accuracy: 0.7797 - val_loss: 0.4809 - val_accuracy: 0.7802\n",
            "Epoch 52/300\n",
            "57/57 - 24s - loss: 0.4576 - accuracy: 0.7824 - val_loss: 0.4852 - val_accuracy: 0.7956\n",
            "Epoch 53/300\n",
            "57/57 - 24s - loss: 0.4414 - accuracy: 0.7824 - val_loss: 0.4903 - val_accuracy: 0.7736\n",
            "Epoch 54/300\n",
            "57/57 - 25s - loss: 0.4284 - accuracy: 0.7956 - val_loss: 0.4883 - val_accuracy: 0.7758\n",
            "Epoch 55/300\n",
            "57/57 - 26s - loss: 0.4307 - accuracy: 0.7863 - val_loss: 0.4846 - val_accuracy: 0.7846\n",
            "Epoch 56/300\n",
            "57/57 - 25s - loss: 0.4250 - accuracy: 0.8088 - val_loss: 0.4795 - val_accuracy: 0.8022\n",
            "Epoch 57/300\n",
            "57/57 - 25s - loss: 0.4151 - accuracy: 0.8170 - val_loss: 0.4788 - val_accuracy: 0.8154\n",
            "Epoch 58/300\n",
            "57/57 - 24s - loss: 0.4241 - accuracy: 0.8368 - val_loss: 0.4804 - val_accuracy: 0.7868\n",
            "Epoch 59/300\n",
            "57/57 - 24s - loss: 0.4207 - accuracy: 0.8341 - val_loss: 0.4875 - val_accuracy: 0.7868\n",
            "Epoch 60/300\n",
            "57/57 - 25s - loss: 0.4135 - accuracy: 0.8429 - val_loss: 0.4807 - val_accuracy: 0.8286\n",
            "Epoch 61/300\n",
            "57/57 - 25s - loss: 0.4019 - accuracy: 0.8505 - val_loss: 0.4657 - val_accuracy: 0.8791\n",
            "Epoch 62/300\n",
            "57/57 - 25s - loss: 0.3996 - accuracy: 0.8604 - val_loss: 0.4634 - val_accuracy: 0.8659\n",
            "Epoch 63/300\n",
            "57/57 - 25s - loss: 0.4020 - accuracy: 0.8692 - val_loss: 0.4657 - val_accuracy: 0.8747\n",
            "Epoch 64/300\n",
            "57/57 - 25s - loss: 0.3999 - accuracy: 0.8808 - val_loss: 0.4481 - val_accuracy: 0.8813\n",
            "Epoch 65/300\n",
            "57/57 - 26s - loss: 0.3899 - accuracy: 0.8753 - val_loss: 0.4435 - val_accuracy: 0.8857\n",
            "Epoch 66/300\n",
            "57/57 - 26s - loss: 0.3759 - accuracy: 0.8868 - val_loss: 0.4380 - val_accuracy: 0.8923\n",
            "Epoch 67/300\n",
            "57/57 - 26s - loss: 0.3763 - accuracy: 0.8830 - val_loss: 0.4296 - val_accuracy: 0.8879\n",
            "Epoch 68/300\n",
            "57/57 - 26s - loss: 0.3733 - accuracy: 0.8874 - val_loss: 0.4256 - val_accuracy: 0.8901\n",
            "Epoch 69/300\n",
            "57/57 - 26s - loss: 0.3654 - accuracy: 0.8934 - val_loss: 0.4298 - val_accuracy: 0.8813\n",
            "Epoch 70/300\n",
            "57/57 - 26s - loss: 0.3559 - accuracy: 0.8984 - val_loss: 0.4198 - val_accuracy: 0.8945\n",
            "Epoch 71/300\n",
            "57/57 - 25s - loss: 0.3436 - accuracy: 0.9027 - val_loss: 0.4074 - val_accuracy: 0.8923\n",
            "Epoch 72/300\n",
            "57/57 - 25s - loss: 0.3444 - accuracy: 0.9000 - val_loss: 0.4069 - val_accuracy: 0.8967\n",
            "Epoch 73/300\n",
            "57/57 - 25s - loss: 0.3387 - accuracy: 0.8967 - val_loss: 0.4004 - val_accuracy: 0.8967\n",
            "Epoch 74/300\n",
            "57/57 - 25s - loss: 0.3363 - accuracy: 0.9071 - val_loss: 0.3911 - val_accuracy: 0.9011\n",
            "Epoch 75/300\n",
            "57/57 - 24s - loss: 0.3240 - accuracy: 0.9088 - val_loss: 0.3908 - val_accuracy: 0.9033\n",
            "Epoch 76/300\n",
            "57/57 - 25s - loss: 0.3154 - accuracy: 0.9126 - val_loss: 0.3818 - val_accuracy: 0.9099\n",
            "Epoch 77/300\n",
            "57/57 - 25s - loss: 0.3133 - accuracy: 0.9110 - val_loss: 0.4009 - val_accuracy: 0.8813\n",
            "Epoch 78/300\n",
            "57/57 - 25s - loss: 0.3051 - accuracy: 0.9137 - val_loss: 0.3738 - val_accuracy: 0.9077\n",
            "Epoch 79/300\n",
            "57/57 - 25s - loss: 0.2907 - accuracy: 0.9181 - val_loss: 0.3734 - val_accuracy: 0.9099\n",
            "Epoch 80/300\n",
            "57/57 - 25s - loss: 0.2895 - accuracy: 0.9231 - val_loss: 0.3772 - val_accuracy: 0.8967\n",
            "Epoch 81/300\n",
            "57/57 - 24s - loss: 0.2907 - accuracy: 0.9198 - val_loss: 0.3697 - val_accuracy: 0.9055\n",
            "Epoch 82/300\n",
            "57/57 - 25s - loss: 0.2805 - accuracy: 0.9242 - val_loss: 0.3539 - val_accuracy: 0.9077\n",
            "Epoch 83/300\n",
            "57/57 - 25s - loss: 0.2878 - accuracy: 0.9170 - val_loss: 0.3548 - val_accuracy: 0.9143\n",
            "Epoch 84/300\n",
            "57/57 - 24s - loss: 0.2753 - accuracy: 0.9192 - val_loss: 0.3495 - val_accuracy: 0.9077\n",
            "Epoch 85/300\n",
            "57/57 - 25s - loss: 0.2702 - accuracy: 0.9258 - val_loss: 0.3501 - val_accuracy: 0.9055\n",
            "Epoch 86/300\n",
            "57/57 - 25s - loss: 0.2637 - accuracy: 0.9286 - val_loss: 0.3438 - val_accuracy: 0.9165\n",
            "Epoch 87/300\n",
            "57/57 - 25s - loss: 0.2791 - accuracy: 0.9181 - val_loss: 0.3573 - val_accuracy: 0.9143\n",
            "Epoch 88/300\n",
            "57/57 - 26s - loss: 0.2586 - accuracy: 0.9264 - val_loss: 0.3460 - val_accuracy: 0.9099\n",
            "Epoch 89/300\n",
            "57/57 - 26s - loss: 0.2589 - accuracy: 0.9280 - val_loss: 0.3378 - val_accuracy: 0.9143\n",
            "Epoch 90/300\n",
            "57/57 - 25s - loss: 0.2558 - accuracy: 0.9275 - val_loss: 0.3459 - val_accuracy: 0.9143\n",
            "Epoch 91/300\n",
            "57/57 - 26s - loss: 0.2619 - accuracy: 0.9242 - val_loss: 0.3413 - val_accuracy: 0.9143\n",
            "Epoch 92/300\n",
            "57/57 - 26s - loss: 0.2608 - accuracy: 0.9236 - val_loss: 0.3824 - val_accuracy: 0.8945\n",
            "Epoch 93/300\n",
            "57/57 - 26s - loss: 0.2753 - accuracy: 0.9165 - val_loss: 0.3556 - val_accuracy: 0.9077\n",
            "Epoch 94/300\n",
            "57/57 - 25s - loss: 0.2422 - accuracy: 0.9352 - val_loss: 0.3399 - val_accuracy: 0.9121\n",
            "Epoch 95/300\n",
            "57/57 - 25s - loss: 0.2393 - accuracy: 0.9324 - val_loss: 0.3575 - val_accuracy: 0.9099\n",
            "Epoch 96/300\n",
            "57/57 - 25s - loss: 0.2442 - accuracy: 0.9275 - val_loss: 0.3622 - val_accuracy: 0.9055\n",
            "Epoch 97/300\n",
            "57/57 - 26s - loss: 0.2493 - accuracy: 0.9269 - val_loss: 0.3407 - val_accuracy: 0.9121\n",
            "Epoch 98/300\n",
            "57/57 - 25s - loss: 0.2357 - accuracy: 0.9346 - val_loss: 0.3446 - val_accuracy: 0.9099\n",
            "Epoch 99/300\n",
            "57/57 - 25s - loss: 0.2298 - accuracy: 0.9341 - val_loss: 0.3462 - val_accuracy: 0.9099\n",
            "Epoch 100/300\n",
            "57/57 - 26s - loss: 0.2317 - accuracy: 0.9286 - val_loss: 0.3446 - val_accuracy: 0.9099\n",
            "Epoch 101/300\n",
            "57/57 - 26s - loss: 0.2295 - accuracy: 0.9330 - val_loss: 0.3536 - val_accuracy: 0.9099\n",
            "Epoch 102/300\n",
            "57/57 - 24s - loss: 0.2404 - accuracy: 0.9324 - val_loss: 0.3616 - val_accuracy: 0.9099\n",
            "Epoch 103/300\n",
            "57/57 - 26s - loss: 0.2349 - accuracy: 0.9335 - val_loss: 0.3334 - val_accuracy: 0.9143\n",
            "Epoch 104/300\n",
            "57/57 - 26s - loss: 0.2394 - accuracy: 0.9297 - val_loss: 0.3478 - val_accuracy: 0.9099\n",
            "Epoch 105/300\n",
            "57/57 - 25s - loss: 0.2184 - accuracy: 0.9390 - val_loss: 0.3549 - val_accuracy: 0.9099\n",
            "Epoch 106/300\n",
            "57/57 - 25s - loss: 0.2313 - accuracy: 0.9324 - val_loss: 0.3480 - val_accuracy: 0.9121\n",
            "Epoch 107/300\n",
            "57/57 - 25s - loss: 0.2270 - accuracy: 0.9368 - val_loss: 0.3341 - val_accuracy: 0.9121\n",
            "Epoch 108/300\n",
            "57/57 - 25s - loss: 0.2209 - accuracy: 0.9363 - val_loss: 0.3430 - val_accuracy: 0.9121\n",
            "Epoch 109/300\n",
            "57/57 - 25s - loss: 0.2275 - accuracy: 0.9335 - val_loss: 0.3421 - val_accuracy: 0.9099\n",
            "Epoch 110/300\n",
            "57/57 - 26s - loss: 0.2252 - accuracy: 0.9335 - val_loss: 0.3489 - val_accuracy: 0.9099\n",
            "Epoch 111/300\n",
            "57/57 - 25s - loss: 0.2182 - accuracy: 0.9379 - val_loss: 0.3468 - val_accuracy: 0.9143\n",
            "Epoch 112/300\n",
            "57/57 - 25s - loss: 0.2256 - accuracy: 0.9363 - val_loss: 0.3343 - val_accuracy: 0.9165\n",
            "Epoch 113/300\n",
            "57/57 - 26s - loss: 0.2246 - accuracy: 0.9357 - val_loss: 0.3282 - val_accuracy: 0.9165\n",
            "Epoch 114/300\n",
            "57/57 - 26s - loss: 0.2282 - accuracy: 0.9374 - val_loss: 0.3207 - val_accuracy: 0.9187\n",
            "Epoch 115/300\n",
            "57/57 - 26s - loss: 0.2274 - accuracy: 0.9313 - val_loss: 0.3309 - val_accuracy: 0.9165\n",
            "Epoch 116/300\n",
            "57/57 - 27s - loss: 0.2330 - accuracy: 0.9324 - val_loss: 0.3522 - val_accuracy: 0.9077\n",
            "Epoch 117/300\n",
            "57/57 - 26s - loss: 0.2250 - accuracy: 0.9357 - val_loss: 0.3463 - val_accuracy: 0.9099\n",
            "Epoch 118/300\n",
            "57/57 - 27s - loss: 0.2226 - accuracy: 0.9368 - val_loss: 0.3299 - val_accuracy: 0.9165\n",
            "Epoch 119/300\n",
            "57/57 - 27s - loss: 0.2147 - accuracy: 0.9390 - val_loss: 0.3359 - val_accuracy: 0.9099\n",
            "Epoch 120/300\n",
            "57/57 - 26s - loss: 0.2115 - accuracy: 0.9434 - val_loss: 0.3301 - val_accuracy: 0.9143\n",
            "Epoch 121/300\n",
            "57/57 - 26s - loss: 0.2090 - accuracy: 0.9412 - val_loss: 0.3290 - val_accuracy: 0.9165\n",
            "Epoch 122/300\n",
            "57/57 - 26s - loss: 0.2154 - accuracy: 0.9390 - val_loss: 0.3322 - val_accuracy: 0.9187\n",
            "Epoch 123/300\n",
            "57/57 - 26s - loss: 0.2309 - accuracy: 0.9324 - val_loss: 0.3334 - val_accuracy: 0.9143\n",
            "Epoch 124/300\n",
            "57/57 - 26s - loss: 0.2071 - accuracy: 0.9418 - val_loss: 0.3329 - val_accuracy: 0.9165\n",
            "Epoch 125/300\n",
            "57/57 - 26s - loss: 0.2216 - accuracy: 0.9357 - val_loss: 0.3487 - val_accuracy: 0.9099\n",
            "Epoch 126/300\n",
            "57/57 - 25s - loss: 0.2217 - accuracy: 0.9341 - val_loss: 0.3332 - val_accuracy: 0.9165\n",
            "Epoch 127/300\n",
            "57/57 - 26s - loss: 0.2132 - accuracy: 0.9396 - val_loss: 0.3339 - val_accuracy: 0.9121\n",
            "Epoch 128/300\n",
            "57/57 - 26s - loss: 0.2151 - accuracy: 0.9379 - val_loss: 0.3529 - val_accuracy: 0.9143\n",
            "Epoch 129/300\n",
            "57/57 - 25s - loss: 0.2137 - accuracy: 0.9407 - val_loss: 0.3457 - val_accuracy: 0.9143\n",
            "Epoch 130/300\n",
            "57/57 - 25s - loss: 0.2123 - accuracy: 0.9396 - val_loss: 0.3407 - val_accuracy: 0.9143\n",
            "Epoch 131/300\n",
            "57/57 - 25s - loss: 0.2081 - accuracy: 0.9440 - val_loss: 0.3366 - val_accuracy: 0.9187\n",
            "Epoch 132/300\n",
            "57/57 - 26s - loss: 0.2087 - accuracy: 0.9401 - val_loss: 0.3314 - val_accuracy: 0.9187\n",
            "Epoch 133/300\n",
            "57/57 - 26s - loss: 0.2026 - accuracy: 0.9451 - val_loss: 0.3333 - val_accuracy: 0.9187\n",
            "Epoch 134/300\n",
            "57/57 - 26s - loss: 0.2065 - accuracy: 0.9423 - val_loss: 0.3338 - val_accuracy: 0.9143\n",
            "Epoch 135/300\n",
            "57/57 - 25s - loss: 0.2309 - accuracy: 0.9275 - val_loss: 0.3505 - val_accuracy: 0.9121\n",
            "Epoch 136/300\n",
            "57/57 - 26s - loss: 0.2048 - accuracy: 0.9407 - val_loss: 0.3300 - val_accuracy: 0.9165\n",
            "Epoch 137/300\n",
            "57/57 - 26s - loss: 0.2082 - accuracy: 0.9412 - val_loss: 0.3316 - val_accuracy: 0.9187\n",
            "Epoch 138/300\n",
            "57/57 - 25s - loss: 0.2016 - accuracy: 0.9440 - val_loss: 0.3364 - val_accuracy: 0.9187\n",
            "Epoch 139/300\n",
            "57/57 - 26s - loss: 0.2214 - accuracy: 0.9363 - val_loss: 0.3245 - val_accuracy: 0.9209\n",
            "Epoch 140/300\n",
            "57/57 - 25s - loss: 0.2120 - accuracy: 0.9385 - val_loss: 0.3309 - val_accuracy: 0.9209\n",
            "Epoch 141/300\n",
            "57/57 - 26s - loss: 0.2002 - accuracy: 0.9423 - val_loss: 0.3301 - val_accuracy: 0.9209\n",
            "Epoch 142/300\n",
            "57/57 - 25s - loss: 0.2087 - accuracy: 0.9429 - val_loss: 0.3208 - val_accuracy: 0.9209\n",
            "Epoch 143/300\n",
            "57/57 - 26s - loss: 0.1957 - accuracy: 0.9434 - val_loss: 0.3257 - val_accuracy: 0.9209\n",
            "Epoch 144/300\n",
            "57/57 - 24s - loss: 0.2025 - accuracy: 0.9396 - val_loss: 0.3330 - val_accuracy: 0.9187\n",
            "Epoch 145/300\n",
            "57/57 - 25s - loss: 0.1978 - accuracy: 0.9429 - val_loss: 0.3248 - val_accuracy: 0.9209\n",
            "Epoch 146/300\n",
            "57/57 - 26s - loss: 0.1962 - accuracy: 0.9451 - val_loss: 0.3261 - val_accuracy: 0.9209\n",
            "Epoch 147/300\n",
            "57/57 - 25s - loss: 0.2192 - accuracy: 0.9379 - val_loss: 0.3292 - val_accuracy: 0.9187\n",
            "Epoch 148/300\n",
            "57/57 - 25s - loss: 0.2013 - accuracy: 0.9407 - val_loss: 0.3261 - val_accuracy: 0.9209\n",
            "Epoch 149/300\n",
            "57/57 - 26s - loss: 0.1970 - accuracy: 0.9423 - val_loss: 0.3289 - val_accuracy: 0.9209\n",
            "Epoch 150/300\n",
            "57/57 - 26s - loss: 0.1982 - accuracy: 0.9440 - val_loss: 0.3318 - val_accuracy: 0.9187\n",
            "Epoch 151/300\n",
            "57/57 - 26s - loss: 0.2017 - accuracy: 0.9440 - val_loss: 0.3333 - val_accuracy: 0.9143\n",
            "Epoch 152/300\n",
            "57/57 - 25s - loss: 0.1881 - accuracy: 0.9489 - val_loss: 0.3204 - val_accuracy: 0.9187\n",
            "Epoch 153/300\n",
            "57/57 - 25s - loss: 0.1925 - accuracy: 0.9451 - val_loss: 0.3270 - val_accuracy: 0.9209\n",
            "Epoch 154/300\n",
            "57/57 - 25s - loss: 0.1813 - accuracy: 0.9484 - val_loss: 0.3227 - val_accuracy: 0.9187\n",
            "Epoch 155/300\n",
            "57/57 - 25s - loss: 0.1941 - accuracy: 0.9423 - val_loss: 0.3210 - val_accuracy: 0.9187\n",
            "Epoch 156/300\n",
            "57/57 - 24s - loss: 0.1868 - accuracy: 0.9478 - val_loss: 0.3263 - val_accuracy: 0.9187\n",
            "Epoch 157/300\n",
            "57/57 - 25s - loss: 0.1884 - accuracy: 0.9451 - val_loss: 0.3209 - val_accuracy: 0.9209\n",
            "Epoch 158/300\n",
            "57/57 - 26s - loss: 0.1876 - accuracy: 0.9451 - val_loss: 0.3213 - val_accuracy: 0.9165\n",
            "Epoch 159/300\n",
            "57/57 - 26s - loss: 0.1844 - accuracy: 0.9484 - val_loss: 0.3199 - val_accuracy: 0.9187\n",
            "Epoch 160/300\n",
            "57/57 - 25s - loss: 0.1826 - accuracy: 0.9445 - val_loss: 0.3240 - val_accuracy: 0.9209\n",
            "Epoch 161/300\n",
            "57/57 - 24s - loss: 0.2202 - accuracy: 0.9346 - val_loss: 0.3391 - val_accuracy: 0.9099\n",
            "Epoch 162/300\n",
            "57/57 - 24s - loss: 0.1858 - accuracy: 0.9473 - val_loss: 0.3226 - val_accuracy: 0.9209\n",
            "Epoch 163/300\n",
            "57/57 - 25s - loss: 0.1866 - accuracy: 0.9462 - val_loss: 0.3164 - val_accuracy: 0.9187\n",
            "Epoch 164/300\n",
            "57/57 - 24s - loss: 0.1922 - accuracy: 0.9456 - val_loss: 0.3396 - val_accuracy: 0.9143\n",
            "Epoch 165/300\n",
            "57/57 - 26s - loss: 0.1885 - accuracy: 0.9467 - val_loss: 0.3311 - val_accuracy: 0.9187\n",
            "Epoch 166/300\n",
            "57/57 - 25s - loss: 0.1864 - accuracy: 0.9467 - val_loss: 0.3153 - val_accuracy: 0.9187\n",
            "Epoch 167/300\n",
            "57/57 - 25s - loss: 0.1813 - accuracy: 0.9462 - val_loss: 0.3162 - val_accuracy: 0.9187\n",
            "Epoch 168/300\n",
            "57/57 - 26s - loss: 0.1791 - accuracy: 0.9500 - val_loss: 0.3117 - val_accuracy: 0.9231\n",
            "Epoch 169/300\n",
            "57/57 - 27s - loss: 0.1796 - accuracy: 0.9473 - val_loss: 0.3193 - val_accuracy: 0.9209\n",
            "Epoch 170/300\n",
            "57/57 - 28s - loss: 0.1847 - accuracy: 0.9462 - val_loss: 0.3249 - val_accuracy: 0.9231\n",
            "Epoch 171/300\n",
            "57/57 - 26s - loss: 0.1706 - accuracy: 0.9533 - val_loss: 0.3184 - val_accuracy: 0.9187\n",
            "Epoch 172/300\n",
            "57/57 - 26s - loss: 0.1776 - accuracy: 0.9495 - val_loss: 0.3122 - val_accuracy: 0.9165\n",
            "Epoch 173/300\n",
            "57/57 - 26s - loss: 0.1765 - accuracy: 0.9511 - val_loss: 0.3045 - val_accuracy: 0.9275\n",
            "Epoch 174/300\n",
            "57/57 - 27s - loss: 0.1862 - accuracy: 0.9473 - val_loss: 0.3224 - val_accuracy: 0.9187\n",
            "Epoch 175/300\n",
            "57/57 - 27s - loss: 0.1717 - accuracy: 0.9533 - val_loss: 0.3406 - val_accuracy: 0.9099\n",
            "Epoch 176/300\n",
            "57/57 - 26s - loss: 0.1753 - accuracy: 0.9462 - val_loss: 0.3157 - val_accuracy: 0.9231\n",
            "Epoch 177/300\n",
            "57/57 - 26s - loss: 0.1840 - accuracy: 0.9473 - val_loss: 0.3011 - val_accuracy: 0.9231\n",
            "Epoch 178/300\n",
            "57/57 - 25s - loss: 0.1712 - accuracy: 0.9511 - val_loss: 0.3111 - val_accuracy: 0.9187\n",
            "Epoch 179/300\n",
            "57/57 - 26s - loss: 0.1873 - accuracy: 0.9451 - val_loss: 0.2933 - val_accuracy: 0.9231\n",
            "Epoch 180/300\n",
            "57/57 - 26s - loss: 0.1761 - accuracy: 0.9500 - val_loss: 0.3121 - val_accuracy: 0.9187\n",
            "Epoch 181/300\n",
            "57/57 - 26s - loss: 0.1659 - accuracy: 0.9505 - val_loss: 0.3067 - val_accuracy: 0.9187\n",
            "Epoch 182/300\n",
            "57/57 - 26s - loss: 0.1686 - accuracy: 0.9522 - val_loss: 0.3104 - val_accuracy: 0.9209\n",
            "Epoch 183/300\n",
            "57/57 - 26s - loss: 0.1802 - accuracy: 0.9489 - val_loss: 0.3102 - val_accuracy: 0.9209\n",
            "Epoch 184/300\n",
            "57/57 - 25s - loss: 0.1710 - accuracy: 0.9484 - val_loss: 0.3010 - val_accuracy: 0.9275\n",
            "Epoch 185/300\n",
            "57/57 - 26s - loss: 0.1766 - accuracy: 0.9462 - val_loss: 0.3061 - val_accuracy: 0.9275\n",
            "Epoch 186/300\n",
            "57/57 - 26s - loss: 0.1732 - accuracy: 0.9505 - val_loss: 0.3289 - val_accuracy: 0.9165\n",
            "Epoch 187/300\n",
            "57/57 - 26s - loss: 0.1844 - accuracy: 0.9495 - val_loss: 0.3000 - val_accuracy: 0.9253\n",
            "Epoch 188/300\n",
            "57/57 - 25s - loss: 0.1708 - accuracy: 0.9527 - val_loss: 0.2966 - val_accuracy: 0.9209\n",
            "Epoch 189/300\n",
            "57/57 - 25s - loss: 0.1926 - accuracy: 0.9462 - val_loss: 0.2921 - val_accuracy: 0.9319\n",
            "Epoch 190/300\n",
            "57/57 - 25s - loss: 0.1701 - accuracy: 0.9505 - val_loss: 0.2910 - val_accuracy: 0.9231\n",
            "Epoch 191/300\n",
            "57/57 - 25s - loss: 0.1832 - accuracy: 0.9473 - val_loss: 0.3018 - val_accuracy: 0.9209\n",
            "Epoch 192/300\n",
            "57/57 - 24s - loss: 0.1814 - accuracy: 0.9467 - val_loss: 0.3014 - val_accuracy: 0.9231\n",
            "Epoch 193/300\n",
            "57/57 - 25s - loss: 0.1762 - accuracy: 0.9489 - val_loss: 0.3244 - val_accuracy: 0.9253\n",
            "Epoch 194/300\n",
            "57/57 - 25s - loss: 0.1700 - accuracy: 0.9544 - val_loss: 0.3112 - val_accuracy: 0.9165\n",
            "Epoch 195/300\n",
            "57/57 - 25s - loss: 0.1829 - accuracy: 0.9489 - val_loss: 0.3150 - val_accuracy: 0.9165\n",
            "Epoch 196/300\n",
            "57/57 - 25s - loss: 0.1720 - accuracy: 0.9500 - val_loss: 0.3694 - val_accuracy: 0.9011\n",
            "Epoch 197/300\n",
            "57/57 - 26s - loss: 0.1788 - accuracy: 0.9495 - val_loss: 0.3221 - val_accuracy: 0.9187\n",
            "Epoch 198/300\n",
            "57/57 - 26s - loss: 0.1698 - accuracy: 0.9511 - val_loss: 0.3109 - val_accuracy: 0.9187\n",
            "Epoch 199/300\n",
            "57/57 - 26s - loss: 0.1648 - accuracy: 0.9511 - val_loss: 0.2993 - val_accuracy: 0.9297\n",
            "Epoch 200/300\n",
            "57/57 - 26s - loss: 0.1687 - accuracy: 0.9478 - val_loss: 0.3024 - val_accuracy: 0.9209\n",
            "Epoch 201/300\n",
            "57/57 - 24s - loss: 0.1724 - accuracy: 0.9527 - val_loss: 0.2936 - val_accuracy: 0.9209\n",
            "Epoch 202/300\n",
            "57/57 - 25s - loss: 0.1663 - accuracy: 0.9495 - val_loss: 0.2846 - val_accuracy: 0.9297\n",
            "Epoch 203/300\n",
            "57/57 - 25s - loss: 0.1648 - accuracy: 0.9522 - val_loss: 0.2840 - val_accuracy: 0.9319\n",
            "Epoch 204/300\n",
            "57/57 - 25s - loss: 0.1649 - accuracy: 0.9500 - val_loss: 0.3055 - val_accuracy: 0.9275\n",
            "Epoch 205/300\n",
            "57/57 - 25s - loss: 0.1625 - accuracy: 0.9566 - val_loss: 0.3152 - val_accuracy: 0.9209\n",
            "Epoch 206/300\n",
            "57/57 - 26s - loss: 0.1706 - accuracy: 0.9522 - val_loss: 0.3095 - val_accuracy: 0.9187\n",
            "Epoch 207/300\n",
            "57/57 - 25s - loss: 0.1691 - accuracy: 0.9500 - val_loss: 0.3041 - val_accuracy: 0.9231\n",
            "Epoch 208/300\n",
            "57/57 - 27s - loss: 0.1675 - accuracy: 0.9522 - val_loss: 0.3001 - val_accuracy: 0.9275\n",
            "Epoch 209/300\n",
            "57/57 - 26s - loss: 0.1661 - accuracy: 0.9516 - val_loss: 0.3044 - val_accuracy: 0.9253\n",
            "Epoch 210/300\n",
            "57/57 - 25s - loss: 0.1655 - accuracy: 0.9516 - val_loss: 0.3022 - val_accuracy: 0.9275\n",
            "Epoch 211/300\n",
            "57/57 - 26s - loss: 0.1690 - accuracy: 0.9511 - val_loss: 0.3093 - val_accuracy: 0.9165\n",
            "Epoch 212/300\n",
            "57/57 - 25s - loss: 0.1677 - accuracy: 0.9538 - val_loss: 0.3013 - val_accuracy: 0.9253\n",
            "Epoch 213/300\n",
            "57/57 - 24s - loss: 0.1636 - accuracy: 0.9527 - val_loss: 0.2942 - val_accuracy: 0.9253\n",
            "Epoch 214/300\n",
            "57/57 - 26s - loss: 0.1646 - accuracy: 0.9522 - val_loss: 0.2900 - val_accuracy: 0.9231\n",
            "Epoch 215/300\n",
            "57/57 - 25s - loss: 0.1619 - accuracy: 0.9555 - val_loss: 0.2938 - val_accuracy: 0.9275\n",
            "Epoch 216/300\n",
            "57/57 - 27s - loss: 0.1704 - accuracy: 0.9516 - val_loss: 0.3157 - val_accuracy: 0.9187\n",
            "Epoch 217/300\n",
            "57/57 - 26s - loss: 0.1603 - accuracy: 0.9555 - val_loss: 0.3092 - val_accuracy: 0.9209\n",
            "Epoch 218/300\n",
            "57/57 - 26s - loss: 0.1643 - accuracy: 0.9527 - val_loss: 0.3035 - val_accuracy: 0.9253\n",
            "Epoch 219/300\n",
            "57/57 - 27s - loss: 0.1620 - accuracy: 0.9549 - val_loss: 0.3017 - val_accuracy: 0.9297\n",
            "Epoch 220/300\n",
            "57/57 - 26s - loss: 0.1810 - accuracy: 0.9505 - val_loss: 0.3797 - val_accuracy: 0.8989\n",
            "Epoch 221/300\n",
            "57/57 - 26s - loss: 0.1744 - accuracy: 0.9489 - val_loss: 0.3153 - val_accuracy: 0.9187\n",
            "Epoch 222/300\n",
            "57/57 - 26s - loss: 0.1624 - accuracy: 0.9577 - val_loss: 0.3057 - val_accuracy: 0.9253\n",
            "Epoch 223/300\n",
            "57/57 - 26s - loss: 0.1727 - accuracy: 0.9511 - val_loss: 0.3210 - val_accuracy: 0.9187\n",
            "Epoch 224/300\n",
            "57/57 - 25s - loss: 0.1568 - accuracy: 0.9560 - val_loss: 0.3021 - val_accuracy: 0.9253\n",
            "Epoch 225/300\n",
            "57/57 - 26s - loss: 0.1671 - accuracy: 0.9577 - val_loss: 0.3068 - val_accuracy: 0.9231\n",
            "Epoch 226/300\n",
            "57/57 - 26s - loss: 0.1696 - accuracy: 0.9533 - val_loss: 0.3009 - val_accuracy: 0.9297\n",
            "Epoch 227/300\n",
            "57/57 - 26s - loss: 0.1581 - accuracy: 0.9571 - val_loss: 0.3111 - val_accuracy: 0.9231\n",
            "Epoch 228/300\n",
            "57/57 - 26s - loss: 0.1616 - accuracy: 0.9549 - val_loss: 0.2827 - val_accuracy: 0.9297\n",
            "Epoch 229/300\n",
            "57/57 - 25s - loss: 0.1565 - accuracy: 0.9593 - val_loss: 0.2991 - val_accuracy: 0.9253\n",
            "Epoch 230/300\n",
            "57/57 - 25s - loss: 0.1592 - accuracy: 0.9549 - val_loss: 0.2984 - val_accuracy: 0.9297\n",
            "Epoch 231/300\n",
            "57/57 - 26s - loss: 0.1606 - accuracy: 0.9566 - val_loss: 0.2806 - val_accuracy: 0.9319\n",
            "Epoch 232/300\n",
            "57/57 - 24s - loss: 0.1595 - accuracy: 0.9566 - val_loss: 0.3017 - val_accuracy: 0.9297\n",
            "Epoch 233/300\n",
            "57/57 - 26s - loss: 0.1671 - accuracy: 0.9533 - val_loss: 0.3021 - val_accuracy: 0.9275\n",
            "Epoch 234/300\n",
            "57/57 - 24s - loss: 0.1581 - accuracy: 0.9555 - val_loss: 0.3022 - val_accuracy: 0.9275\n",
            "Epoch 235/300\n",
            "57/57 - 24s - loss: 0.1535 - accuracy: 0.9626 - val_loss: 0.3045 - val_accuracy: 0.9275\n",
            "Epoch 236/300\n",
            "57/57 - 25s - loss: 0.1711 - accuracy: 0.9533 - val_loss: 0.3081 - val_accuracy: 0.9231\n",
            "Epoch 237/300\n",
            "57/57 - 25s - loss: 0.1596 - accuracy: 0.9555 - val_loss: 0.3361 - val_accuracy: 0.9121\n",
            "Epoch 238/300\n",
            "57/57 - 26s - loss: 0.1902 - accuracy: 0.9489 - val_loss: 0.3084 - val_accuracy: 0.9297\n",
            "Epoch 239/300\n",
            "57/57 - 26s - loss: 0.1617 - accuracy: 0.9555 - val_loss: 0.2767 - val_accuracy: 0.9363\n",
            "Epoch 240/300\n",
            "57/57 - 26s - loss: 0.1615 - accuracy: 0.9555 - val_loss: 0.3049 - val_accuracy: 0.9319\n",
            "Epoch 241/300\n",
            "57/57 - 27s - loss: 0.1571 - accuracy: 0.9571 - val_loss: 0.2971 - val_accuracy: 0.9275\n",
            "Epoch 242/300\n",
            "57/57 - 26s - loss: 0.1667 - accuracy: 0.9527 - val_loss: 0.3023 - val_accuracy: 0.9275\n",
            "Epoch 243/300\n",
            "57/57 - 26s - loss: 0.1625 - accuracy: 0.9566 - val_loss: 0.2990 - val_accuracy: 0.9275\n",
            "Epoch 244/300\n",
            "57/57 - 26s - loss: 0.1582 - accuracy: 0.9511 - val_loss: 0.2963 - val_accuracy: 0.9297\n",
            "Epoch 245/300\n",
            "57/57 - 27s - loss: 0.1548 - accuracy: 0.9555 - val_loss: 0.2915 - val_accuracy: 0.9297\n",
            "Epoch 246/300\n",
            "57/57 - 26s - loss: 0.1448 - accuracy: 0.9610 - val_loss: 0.2981 - val_accuracy: 0.9297\n",
            "Epoch 247/300\n",
            "57/57 - 27s - loss: 0.1607 - accuracy: 0.9588 - val_loss: 0.2989 - val_accuracy: 0.9319\n",
            "Epoch 248/300\n",
            "57/57 - 27s - loss: 0.1570 - accuracy: 0.9593 - val_loss: 0.3039 - val_accuracy: 0.9253\n",
            "Epoch 249/300\n",
            "57/57 - 26s - loss: 0.1487 - accuracy: 0.9615 - val_loss: 0.3007 - val_accuracy: 0.9297\n",
            "Epoch 250/300\n",
            "57/57 - 27s - loss: 0.1665 - accuracy: 0.9571 - val_loss: 0.3521 - val_accuracy: 0.9231\n",
            "Epoch 251/300\n",
            "57/57 - 27s - loss: 0.1729 - accuracy: 0.9549 - val_loss: 0.2954 - val_accuracy: 0.9253\n",
            "Epoch 252/300\n",
            "57/57 - 27s - loss: 0.1651 - accuracy: 0.9582 - val_loss: 0.3024 - val_accuracy: 0.9275\n",
            "Epoch 253/300\n",
            "57/57 - 24s - loss: 0.1536 - accuracy: 0.9571 - val_loss: 0.3008 - val_accuracy: 0.9275\n",
            "Epoch 254/300\n",
            "57/57 - 26s - loss: 0.1570 - accuracy: 0.9566 - val_loss: 0.3004 - val_accuracy: 0.9319\n",
            "Epoch 255/300\n",
            "57/57 - 26s - loss: 0.1573 - accuracy: 0.9522 - val_loss: 0.3013 - val_accuracy: 0.9297\n",
            "Epoch 256/300\n",
            "57/57 - 27s - loss: 0.1595 - accuracy: 0.9555 - val_loss: 0.2983 - val_accuracy: 0.9297\n",
            "Epoch 257/300\n",
            "57/57 - 26s - loss: 0.1668 - accuracy: 0.9533 - val_loss: 0.2776 - val_accuracy: 0.9319\n",
            "Epoch 258/300\n",
            "57/57 - 25s - loss: 0.1587 - accuracy: 0.9555 - val_loss: 0.3045 - val_accuracy: 0.9253\n",
            "Epoch 259/300\n",
            "57/57 - 25s - loss: 0.1520 - accuracy: 0.9549 - val_loss: 0.3011 - val_accuracy: 0.9297\n",
            "Epoch 260/300\n",
            "57/57 - 24s - loss: 0.1498 - accuracy: 0.9599 - val_loss: 0.2822 - val_accuracy: 0.9341\n",
            "Epoch 261/300\n",
            "57/57 - 25s - loss: 0.1531 - accuracy: 0.9582 - val_loss: 0.2818 - val_accuracy: 0.9319\n",
            "Epoch 262/300\n",
            "57/57 - 25s - loss: 0.1554 - accuracy: 0.9549 - val_loss: 0.2923 - val_accuracy: 0.9297\n",
            "Epoch 263/300\n",
            "57/57 - 25s - loss: 0.1505 - accuracy: 0.9604 - val_loss: 0.2775 - val_accuracy: 0.9385\n",
            "Epoch 264/300\n",
            "57/57 - 26s - loss: 0.1557 - accuracy: 0.9566 - val_loss: 0.2984 - val_accuracy: 0.9297\n",
            "Epoch 265/300\n",
            "57/57 - 25s - loss: 0.1535 - accuracy: 0.9533 - val_loss: 0.2962 - val_accuracy: 0.9275\n",
            "Epoch 266/300\n",
            "57/57 - 25s - loss: 0.1535 - accuracy: 0.9593 - val_loss: 0.2940 - val_accuracy: 0.9275\n",
            "Epoch 267/300\n",
            "57/57 - 26s - loss: 0.1514 - accuracy: 0.9588 - val_loss: 0.2879 - val_accuracy: 0.9297\n",
            "Epoch 268/300\n",
            "57/57 - 25s - loss: 0.1503 - accuracy: 0.9593 - val_loss: 0.3013 - val_accuracy: 0.9275\n",
            "Epoch 269/300\n",
            "57/57 - 24s - loss: 0.1674 - accuracy: 0.9588 - val_loss: 0.2961 - val_accuracy: 0.9275\n",
            "Epoch 270/300\n",
            "57/57 - 25s - loss: 0.1746 - accuracy: 0.9522 - val_loss: 0.3014 - val_accuracy: 0.9297\n",
            "Epoch 271/300\n",
            "57/57 - 25s - loss: 0.1616 - accuracy: 0.9560 - val_loss: 0.2785 - val_accuracy: 0.9385\n",
            "Epoch 272/300\n",
            "57/57 - 25s - loss: 0.1528 - accuracy: 0.9560 - val_loss: 0.2990 - val_accuracy: 0.9319\n",
            "Epoch 273/300\n",
            "57/57 - 24s - loss: 0.1529 - accuracy: 0.9571 - val_loss: 0.2991 - val_accuracy: 0.9297\n",
            "Epoch 274/300\n",
            "57/57 - 25s - loss: 0.1479 - accuracy: 0.9599 - val_loss: 0.3281 - val_accuracy: 0.9165\n",
            "Epoch 275/300\n",
            "57/57 - 24s - loss: 0.1518 - accuracy: 0.9582 - val_loss: 0.2908 - val_accuracy: 0.9341\n",
            "Epoch 276/300\n",
            "57/57 - 25s - loss: 0.1556 - accuracy: 0.9566 - val_loss: 0.2882 - val_accuracy: 0.9319\n",
            "Epoch 277/300\n",
            "57/57 - 25s - loss: 0.1495 - accuracy: 0.9593 - val_loss: 0.2781 - val_accuracy: 0.9341\n",
            "Epoch 278/300\n",
            "57/57 - 23s - loss: 0.1518 - accuracy: 0.9577 - val_loss: 0.2939 - val_accuracy: 0.9319\n",
            "Epoch 279/300\n",
            "57/57 - 25s - loss: 0.1465 - accuracy: 0.9615 - val_loss: 0.3044 - val_accuracy: 0.9297\n",
            "Epoch 280/300\n",
            "57/57 - 27s - loss: 0.1543 - accuracy: 0.9560 - val_loss: 0.2932 - val_accuracy: 0.9319\n",
            "Epoch 281/300\n",
            "57/57 - 24s - loss: 0.1504 - accuracy: 0.9593 - val_loss: 0.3009 - val_accuracy: 0.9319\n",
            "Epoch 282/300\n",
            "57/57 - 24s - loss: 0.1480 - accuracy: 0.9571 - val_loss: 0.3013 - val_accuracy: 0.9319\n",
            "Epoch 283/300\n",
            "57/57 - 25s - loss: 0.1548 - accuracy: 0.9577 - val_loss: 0.2986 - val_accuracy: 0.9341\n",
            "Epoch 284/300\n",
            "57/57 - 24s - loss: 0.1405 - accuracy: 0.9610 - val_loss: 0.2964 - val_accuracy: 0.9297\n",
            "Epoch 285/300\n",
            "57/57 - 25s - loss: 0.1545 - accuracy: 0.9544 - val_loss: 0.3076 - val_accuracy: 0.9297\n",
            "Epoch 286/300\n",
            "57/57 - 25s - loss: 0.1475 - accuracy: 0.9577 - val_loss: 0.2975 - val_accuracy: 0.9297\n",
            "Epoch 287/300\n",
            "57/57 - 25s - loss: 0.1480 - accuracy: 0.9604 - val_loss: 0.2830 - val_accuracy: 0.9297\n",
            "Epoch 288/300\n",
            "57/57 - 25s - loss: 0.1472 - accuracy: 0.9599 - val_loss: 0.3274 - val_accuracy: 0.9231\n",
            "Epoch 289/300\n",
            "57/57 - 26s - loss: 0.1512 - accuracy: 0.9566 - val_loss: 0.3001 - val_accuracy: 0.9275\n",
            "Epoch 290/300\n",
            "57/57 - 25s - loss: 0.1505 - accuracy: 0.9566 - val_loss: 0.2766 - val_accuracy: 0.9363\n",
            "Epoch 291/300\n",
            "57/57 - 26s - loss: 0.1488 - accuracy: 0.9588 - val_loss: 0.2837 - val_accuracy: 0.9341\n",
            "Epoch 292/300\n",
            "57/57 - 24s - loss: 0.1537 - accuracy: 0.9566 - val_loss: 0.2751 - val_accuracy: 0.9319\n",
            "Epoch 293/300\n",
            "57/57 - 26s - loss: 0.1497 - accuracy: 0.9582 - val_loss: 0.2962 - val_accuracy: 0.9297\n",
            "Epoch 294/300\n",
            "57/57 - 25s - loss: 0.1539 - accuracy: 0.9599 - val_loss: 0.2993 - val_accuracy: 0.9319\n",
            "Epoch 295/300\n",
            "57/57 - 26s - loss: 0.1429 - accuracy: 0.9599 - val_loss: 0.3108 - val_accuracy: 0.9253\n",
            "Epoch 296/300\n",
            "57/57 - 25s - loss: 0.1483 - accuracy: 0.9560 - val_loss: 0.3084 - val_accuracy: 0.9297\n",
            "Epoch 297/300\n",
            "57/57 - 26s - loss: 0.1450 - accuracy: 0.9599 - val_loss: 0.2949 - val_accuracy: 0.9341\n",
            "Epoch 298/300\n",
            "57/57 - 25s - loss: 0.1479 - accuracy: 0.9588 - val_loss: 0.2946 - val_accuracy: 0.9319\n",
            "Epoch 299/300\n",
            "57/57 - 25s - loss: 0.1488 - accuracy: 0.9577 - val_loss: 0.2962 - val_accuracy: 0.9319\n",
            "Epoch 300/300\n",
            "57/57 - 25s - loss: 0.1453 - accuracy: 0.9610 - val_loss: 0.2960 - val_accuracy: 0.9341\n"
          ],
          "name": "stdout"
        }
      ]
    },
    {
      "cell_type": "code",
      "metadata": {
        "colab": {
          "base_uri": "https://localhost:8080/"
        },
        "id": "iJga04dgq2AB",
        "outputId": "82f6f06f-47af-4e50-8ce5-168268884165"
      },
      "source": [
        "keras.utils.plot_model(model, root_dir +'multi_input_and_output_model.png', show_shapes=True)"
      ],
      "execution_count": null,
      "outputs": [
        {
          "output_type": "execute_result",
          "data": {
            "image/png": "[encoded data removed]",
            "text/plain": [
              "<IPython.core.display.Image object>"
            ]
          },
          "metadata": {
            "tags": []
          },
          "execution_count": 20
        }
      ]
    },
    {
      "cell_type": "code",
      "metadata": {
        "colab": {
          "base_uri": "https://localhost:8080/",
          "height": 599
        },
        "id": "NOvOSivoXXHx",
        "outputId": "d0a5d0bf-5e96-4af8-d3eb-99018336d921"
      },
      "source": [
        "y_pred=np.argmax(model.predict(x_test), axis=-1)\n",
        "con_mat = tf.math.confusion_matrix(labels=train_labels_true, predictions=y_pred).numpy()\n",
        "con_mat_norm = np.around(con_mat.astype('float') / con_mat.sum(axis=1)[:, np.newaxis], decimals=2)\n",
        "con_mat_df = pd.DataFrame(con_mat_norm, index = range(0,5), columns = range(0,5))\n",
        "\n",
        "figure = plt.figure(figsize=(8, 8))\n",
        "sns.heatmap(con_mat_df, annot=True,cmap=plt.cm.Blues)\n",
        "plt.tight_layout()\n",
        "plt.ylabel('True label')\n",
        "plt.xlabel('Predicted label')\n",
        "plt.show()"
      ],
      "execution_count": null,
      "outputs": [
        {
          "output_type": "display_data",
          "data": {
            "image/png": "[encoded data removed]",
            "text/plain": [
              "<Figure size 576x576 with 2 Axes>"
            ]
          },
          "metadata": {
            "tags": [],
            "needs_background": "light"
          }
        }
      ]
    },
    {
      "cell_type": "code",
      "metadata": {
        "colab": {
          "base_uri": "https://localhost:8080/",
          "height": 295
        },
        "id": "TCsjWycQXYaD",
        "outputId": "f8985109-ea2b-44a2-8557-166a57cc07e9"
      },
      "source": [
        "plt.plot(history.history['accuracy'])\n",
        "plt.plot(history.history['val_accuracy'])\n",
        "plt.title('model accuracy')\n",
        "plt.ylabel('accuracy')\n",
        "plt.xlabel('epoch')\n",
        "plt.legend(['train', 'test'], loc='upper left')\n",
        "plt.show()"
      ],
      "execution_count": null,
      "outputs": [
        {
          "output_type": "display_data",
          "data": {
            "image/png": "[encoded data removed]",
            "text/plain": [
              "<Figure size 432x288 with 1 Axes>"
            ]
          },
          "metadata": {
            "tags": [],
            "needs_background": "light"
          }
        }
      ]
    },
    {
      "cell_type": "code",
      "metadata": {
        "colab": {
          "base_uri": "https://localhost:8080/",
          "height": 295
        },
        "id": "QicKUgCkXZpt",
        "outputId": "1e41e761-38b1-41bc-ac04-6ff02fdb471e"
      },
      "source": [
        "plt.plot(history.history['loss'])\n",
        "plt.plot(history.history['val_loss'])\n",
        "plt.title('model loss')\n",
        "plt.ylabel('loss')\n",
        "plt.xlabel('epoch')\n",
        "plt.legend(['train', 'test'], loc='upper left')\n",
        "plt.show()"
      ],
      "execution_count": null,
      "outputs": [
        {
          "output_type": "display_data",
          "data": {
            "image/png": "[encoded data removed]",
            "text/plain": [
              "<Figure size 432x288 with 1 Axes>"
            ]
          },
          "metadata": {
            "tags": [],
            "needs_background": "light"
          }
        }
      ]
    }
  ]
}